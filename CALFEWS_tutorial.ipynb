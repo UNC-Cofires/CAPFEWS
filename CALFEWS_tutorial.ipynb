{
 "cells": [
  {
   "cell_type": "markdown",
   "metadata": {},
   "source": [
    "# CALFEWS: California Food-Energy-Water System simulation model\n",
    "Intro to model, direct to future paper location\n",
    "## Software setup\n",
    "* Instructions for downloading from GitHub\n",
    "* Requires Python 3 (I use Python 3.6.9)  \n",
    "\n",
    "### Create virtual environment"
   ]
  },
  {
   "cell_type": "code",
   "execution_count": 1,
   "metadata": {},
   "outputs": [],
   "source": [
    "#! python3 -m venv .venv_calfews\n",
    "#! source .venv_calfews/bin/activate"
   ]
  },
  {
   "cell_type": "markdown",
   "metadata": {},
   "source": [
    "### Download Python modules (pip)"
   ]
  },
  {
   "cell_type": "code",
   "execution_count": 2,
   "metadata": {},
   "outputs": [],
   "source": [
    "# ! pip3 install -r requirements.txt\n",
    "# ! ipython3 kernel install --user --name=jupyter_calfews"
   ]
  },
  {
   "cell_type": "markdown",
   "metadata": {},
   "source": [
    "### Download Python modules (conda)"
   ]
  },
  {
   "cell_type": "code",
   "execution_count": 3,
   "metadata": {},
   "outputs": [],
   "source": [
    "#! conda install --file requirements.txt"
   ]
  },
  {
   "cell_type": "markdown",
   "metadata": {},
   "source": [
    "### Check dependencies met"
   ]
  },
  {
   "cell_type": "code",
   "execution_count": 4,
   "metadata": {},
   "outputs": [],
   "source": [
    "import numpy as np\n",
    "import pandas as pd\n",
    "import matplotlib.pyplot as plt\n",
    "import cord\n",
    "from cord import *\n",
    "from datetime import datetime\n",
    "import os\n",
    "import shutil\n",
    "import sys\n",
    "from configobj import ConfigObj\n",
    "import json\n",
    "import h5py\n",
    "from distutils.util import strtobool\n",
    "import warnings\n",
    "warnings.filterwarnings('ignore')"
   ]
  },
  {
   "cell_type": "markdown",
   "metadata": {},
   "source": [
    "## Model setup\n",
    "### Parameter file: `cord/data/input/runtime_params.ini`\n",
    "Intro to file, how to use it"
   ]
  },
  {
   "cell_type": "code",
   "execution_count": 5,
   "metadata": {},
   "outputs": [],
   "source": [
    "#! cat cord/data/input/runtime_params.ini"
   ]
  },
  {
   "cell_type": "code",
   "execution_count": 6,
   "metadata": {},
   "outputs": [
    {
     "data": {
      "text/plain": [
       "(False, bool)"
      ]
     },
     "execution_count": 6,
     "metadata": {},
     "output_type": "execute_result"
    }
   ],
   "source": [
    "startTime = datetime.now()\n",
    "\n",
    "# get runtime params from config file\n",
    "config = ConfigObj('cord/data/input/runtime_params.ini')\n",
    "parallel_mode = bool(strtobool(config['parallel_mode']))\n",
    "parallel_mode, type(parallel_mode)"
   ]
  },
  {
   "cell_type": "code",
   "execution_count": 7,
   "metadata": {},
   "outputs": [
    {
     "data": {
      "text/plain": [
       "('validation', str)"
      ]
     },
     "execution_count": 7,
     "metadata": {},
     "output_type": "execute_result"
    }
   ],
   "source": [
    "model_mode = config['model_mode']\n",
    "model_mode, type(model_mode)"
   ]
  },
  {
   "cell_type": "code",
   "execution_count": 8,
   "metadata": {},
   "outputs": [
    {
     "data": {
      "text/plain": [
       "(-1, int)"
      ]
     },
     "execution_count": 8,
     "metadata": {},
     "output_type": "execute_result"
    }
   ],
   "source": [
    "short_test = int(config['short_test'])\n",
    "short_test, type(short_test)"
   ]
  },
  {
   "cell_type": "code",
   "execution_count": 9,
   "metadata": {},
   "outputs": [
    {
     "data": {
      "text/plain": [
       "(False, bool)"
      ]
     },
     "execution_count": 9,
     "metadata": {},
     "output_type": "execute_result"
    }
   ],
   "source": [
    "print_log = bool(strtobool(config['print_log']))\n",
    "print_log, type(print_log)"
   ]
  },
  {
   "cell_type": "code",
   "execution_count": 10,
   "metadata": {},
   "outputs": [
    {
     "data": {
      "text/plain": [
       "(1001, int)"
      ]
     },
     "execution_count": 10,
     "metadata": {},
     "output_type": "execute_result"
    }
   ],
   "source": [
    "seed = int(config['seed'])\n",
    "seed, type(seed)"
   ]
  },
  {
   "cell_type": "code",
   "execution_count": 11,
   "metadata": {},
   "outputs": [
    {
     "data": {
      "text/plain": [
       "('baseline_wy2017', str)"
      ]
     },
     "execution_count": 11,
     "metadata": {},
     "output_type": "execute_result"
    }
   ],
   "source": [
    "scenario_name = config['scenario_name'] #scenarios provide information on infrastructural plans\n",
    "scenario_name, type(scenario_name)"
   ]
  },
  {
   "cell_type": "code",
   "execution_count": 12,
   "metadata": {},
   "outputs": [
    {
     "data": {
      "text/plain": [
       "('observations', str)"
      ]
     },
     "execution_count": 12,
     "metadata": {},
     "output_type": "execute_result"
    }
   ],
   "source": [
    "flow_input_type = config['flow_input_type']\n",
    "flow_input_type, type(flow_input_type)"
   ]
  },
  {
   "cell_type": "code",
   "execution_count": 13,
   "metadata": {},
   "outputs": [
    {
     "data": {
      "text/plain": [
       "('CDEC', str)"
      ]
     },
     "execution_count": 13,
     "metadata": {},
     "output_type": "execute_result"
    }
   ],
   "source": [
    "flow_input_source = config['flow_input_source']\n",
    "flow_input_source, type(flow_input_source)"
   ]
  },
  {
   "cell_type": "code",
   "execution_count": 14,
   "metadata": {},
   "outputs": [
    {
     "data": {
      "text/plain": [
       "(1, int)"
      ]
     },
     "execution_count": 14,
     "metadata": {},
     "output_type": "execute_result"
    }
   ],
   "source": [
    "total_sensitivity_factors = int(config['total_sensitivity_factors'])\n",
    "total_sensitivity_factors, type(total_sensitivity_factors)"
   ]
  },
  {
   "cell_type": "code",
   "execution_count": 15,
   "metadata": {},
   "outputs": [
    {
     "data": {
      "text/plain": [
       "('cord/data/input/SALib-sample.txt', str)"
      ]
     },
     "execution_count": 15,
     "metadata": {},
     "output_type": "execute_result"
    }
   ],
   "source": [
    "sensitivity_sample_file = config['sensitivity_sample_file']\n",
    "sensitivity_sample_file, type(sensitivity_sample_file)"
   ]
  },
  {
   "cell_type": "code",
   "execution_count": 16,
   "metadata": {},
   "outputs": [
    {
     "data": {
      "text/plain": [
       "('cord/data/input/output_list.json', str)"
      ]
     },
     "execution_count": 16,
     "metadata": {},
     "output_type": "execute_result"
    }
   ],
   "source": [
    "output_list = config['output_list']\n",
    "output_list, type(output_list)"
   ]
  },
  {
   "cell_type": "code",
   "execution_count": 17,
   "metadata": {},
   "outputs": [
    {
     "data": {
      "text/plain": [
       "('cord/data/results', str)"
      ]
     },
     "execution_count": 17,
     "metadata": {},
     "output_type": "execute_result"
    }
   ],
   "source": [
    "output_directory = config['output_directory']\n",
    "output_directory, type(output_directory)"
   ]
  },
  {
   "cell_type": "code",
   "execution_count": 18,
   "metadata": {},
   "outputs": [
    {
     "data": {
      "text/plain": [
       "(True, bool)"
      ]
     },
     "execution_count": 18,
     "metadata": {},
     "output_type": "execute_result"
    }
   ],
   "source": [
    "clean_output = bool(strtobool(config['clean_output']))\n",
    "clean_output, type(clean_output)"
   ]
  },
  {
   "cell_type": "code",
   "execution_count": 19,
   "metadata": {},
   "outputs": [
    {
     "data": {
      "text/plain": [
       "(True, bool)"
      ]
     },
     "execution_count": 19,
     "metadata": {},
     "output_type": "execute_result"
    }
   ],
   "source": [
    "save_full = bool(strtobool(config['save_full']))\n",
    "save_full, type(save_full)"
   ]
  },
  {
   "cell_type": "markdown",
   "metadata": {},
   "source": [
    "### Inflow source parameter file: `cord/data/input/base_inflows.json`\n",
    "Intro to file, how to use it"
   ]
  },
  {
   "cell_type": "code",
   "execution_count": 20,
   "metadata": {},
   "outputs": [],
   "source": [
    "#! cat cord/data/input/base_inflows.json"
   ]
  },
  {
   "cell_type": "markdown",
   "metadata": {},
   "source": [
    "### Infrastructure scenario file: e.g., `cord/scenarios/scenarios_main.json`\n",
    "Intro to file, how to use it"
   ]
  },
  {
   "cell_type": "code",
   "execution_count": 21,
   "metadata": {},
   "outputs": [],
   "source": [
    "#! cat cord/scenarios/scenarios_main.json"
   ]
  },
  {
   "cell_type": "code",
   "execution_count": 22,
   "metadata": {},
   "outputs": [],
   "source": [
    "#! cat cord/scenarios/FKC_properties__capacity_wy2017.json"
   ]
  },
  {
   "cell_type": "markdown",
   "metadata": {},
   "source": [
    "### Data output parameter file: `cord/data/input/output_list.json`\n",
    "Intro to file, how to use it"
   ]
  },
  {
   "cell_type": "code",
   "execution_count": 23,
   "metadata": {},
   "outputs": [],
   "source": [
    "#! cat cord/data/input/output_list.json"
   ]
  },
  {
   "cell_type": "markdown",
   "metadata": {},
   "source": [
    "## Run simulation"
   ]
  },
  {
   "cell_type": "code",
   "execution_count": 24,
   "metadata": {},
   "outputs": [
    {
     "name": "stdout",
     "output_type": "stream",
     "text": [
      "0\n",
      "1\n",
      "validation\n",
      "#######################################################\n",
      "Sample 0 start\n",
      "Year  1.0 ,  0:03:01.540906\n",
      "SMI 1738.0728328155117 0.0 0.0\n",
      "FRS 1738.0728328155117 5.795987195392286 140.25\n",
      "TLB 1738.0728328155117 0.0 0.0\n",
      "CNS 1738.0728328155117 64.17267058486567 80.75\n",
      "ALT 1738.0728328155117 0.00041609298511957604 55.25\n",
      "KRWA 1738.0728328155117 0.003414343792883301 148.75\n",
      "KWD 1738.0728328155117 0.0 0.0\n",
      "Year  2.0 ,  0:04:02.791128\n",
      "SMI 1979.7531813424453 0.0 0.0\n",
      "FRS 1979.7531813424453 150.45353117002196 140.25\n",
      "TLB 1979.7531813424453 0.0 0.0\n",
      "CNS 1979.7531813424453 209.9323741877755 80.75\n",
      "ALT 1979.7531813424453 54.79641823603512 55.25\n",
      "KRWA 1979.7531813424453 3.5337253822783623 148.75\n",
      "KWD 1979.7531813424453 0.0 0.0\n",
      "^C\n",
      "Traceback (most recent call last):\n",
      "  File \"main.py\", line 358, in <module>\n",
      "    swp_release, cvp_release, swp_release2, cvp_release2, swp_pump, cvp_pump = modelso.simulate_south(t, swp_pumping, cvp_pumping, swp_alloc, cvp_alloc, proj_surplus, max_pumping, swp_forgo, cvp_forgo, swp_AF, cvp_AF, swp_AS, cvp_AS, modelno.delta.forecastSJWYT, modelno.delta.forecastSCWYT, modelno.delta.max_tax_free, flood_release, flood_volume)\n",
      "  File \"/home/andrew/projects/ORCA_COMBINED/cord/model.py\", line 2967, in simulate_south\n",
      "    total_canal_demand = self.search_canal_demand(dowy, z, a.key, z.name, 'normal', flow_type, wateryear,'delivery', 'start')\n",
      "  File \"/home/andrew/projects/ORCA_COMBINED/cord/model.py\", line 4922, in search_canal_demand\n",
      "    canal_demands = self.search_canal_demand(dowy, x, canal.key, contract_canal, new_flow_dir,flow_type,wateryear,search_type, available_to_canal)\n",
      "  File \"/home/andrew/projects/ORCA_COMBINED/cord/model.py\", line 4922, in search_canal_demand\n",
      "    canal_demands = self.search_canal_demand(dowy, x, canal.key, contract_canal, new_flow_dir,flow_type,wateryear,search_type, available_to_canal)\n",
      "  File \"/home/andrew/projects/ORCA_COMBINED/cord/model.py\", line 4891, in search_canal_demand\n",
      "    self.find_node_demand_bank(x, canal, canal_loc, contract_list, priority_list, contract_canal, dowy, wateryear, search_type, type_list)\n",
      "  File \"/home/andrew/projects/ORCA_COMBINED/cord/model.py\", line 5245, in find_node_demand_bank\n",
      "    deliveries =  wb_member.set_request_constraints(demand_constraint, search_type, contract_list, bank_node.banked[xx], bank_node.bank_cap[xx], dowy, wateryear)\n",
      "  File \"/home/andrew/projects/ORCA_COMBINED/cord/district.py\", line 810, in set_request_constraints\n",
      "    conservative_estimate = max(min((dowy- 211.0)/(273.0 - 211.0), 1.0), 0.0)\n",
      "KeyboardInterrupt\n"
     ]
    }
   ],
   "source": [
    "! python3 -W ignore main.py"
   ]
  },
  {
   "cell_type": "markdown",
   "metadata": {},
   "source": [
    "## Analyze data"
   ]
  },
  {
   "cell_type": "markdown",
   "metadata": {},
   "source": [
    "### Get data from HDF5 output"
   ]
  },
  {
   "cell_type": "code",
   "execution_count": 25,
   "metadata": {},
   "outputs": [],
   "source": [
    "f = output_directory + '/' + scenario_name + '/' + 'p0/results_p0.hdf5'\n",
    "\n",
    "def get_results_sensitivity_number(results_file, sensitivity_number):\n",
    "  with h5py.File(results_file, 'r') as f:\n",
    "    data = f['s' + str(sensitivity_number)]\n",
    "    names = data.attrs['columns']\n",
    "    names = list(map(lambda x: str(x).split(\"'\")[1], names))\n",
    "    df_data = pd.DataFrame(data[:], columns=names)\n",
    "    return df_data \n",
    "\n",
    "df = get_results_sensitivity_number(f, 0)"
   ]
  },
  {
   "cell_type": "code",
   "execution_count": 26,
   "metadata": {},
   "outputs": [
    {
     "data": {
      "text/html": [
       "<div>\n",
       "<style scoped>\n",
       "    .dataframe tbody tr th:only-of-type {\n",
       "        vertical-align: middle;\n",
       "    }\n",
       "\n",
       "    .dataframe tbody tr th {\n",
       "        vertical-align: top;\n",
       "    }\n",
       "\n",
       "    .dataframe thead th {\n",
       "        text-align: right;\n",
       "    }\n",
       "</style>\n",
       "<table border=\"1\" class=\"dataframe\">\n",
       "  <thead>\n",
       "    <tr style=\"text-align: right;\">\n",
       "      <th></th>\n",
       "      <th>shasta_S</th>\n",
       "      <th>shasta_R</th>\n",
       "      <th>shasta_R_to_delta</th>\n",
       "      <th>shasta_available_storage</th>\n",
       "      <th>shasta_Q</th>\n",
       "      <th>shasta_SNPK</th>\n",
       "      <th>shasta_downstream</th>\n",
       "      <th>shasta_fnf</th>\n",
       "      <th>oroville_S</th>\n",
       "      <th>oroville_R</th>\n",
       "      <th>...</th>\n",
       "      <th>b2800_BLR</th>\n",
       "      <th>b2800_BVA</th>\n",
       "      <th>b2800_CWO</th>\n",
       "      <th>b2800_KCWA</th>\n",
       "      <th>b2800_KND</th>\n",
       "      <th>b2800_LHL</th>\n",
       "      <th>b2800_WRM</th>\n",
       "      <th>wkwb_WKN</th>\n",
       "      <th>northkernwb_NKN</th>\n",
       "      <th>northkernwb_CWO</th>\n",
       "    </tr>\n",
       "  </thead>\n",
       "  <tbody>\n",
       "    <tr>\n",
       "      <th>0</th>\n",
       "      <td>3090.000000</td>\n",
       "      <td>7.524298</td>\n",
       "      <td>7.490782</td>\n",
       "      <td>0.000000</td>\n",
       "      <td>9.668217</td>\n",
       "      <td>0.000000</td>\n",
       "      <td>6.110359</td>\n",
       "      <td>0.016008</td>\n",
       "      <td>2740.000000</td>\n",
       "      <td>12.218333</td>\n",
       "      <td>...</td>\n",
       "      <td>0.0</td>\n",
       "      <td>0.496303</td>\n",
       "      <td>0.0</td>\n",
       "      <td>0.0</td>\n",
       "      <td>0.0</td>\n",
       "      <td>0.0</td>\n",
       "      <td>0.0</td>\n",
       "      <td>0.0</td>\n",
       "      <td>0.000000</td>\n",
       "      <td>0.0</td>\n",
       "    </tr>\n",
       "    <tr>\n",
       "      <th>1</th>\n",
       "      <td>3092.081101</td>\n",
       "      <td>12.756535</td>\n",
       "      <td>12.726962</td>\n",
       "      <td>321.316346</td>\n",
       "      <td>9.133803</td>\n",
       "      <td>0.000000</td>\n",
       "      <td>2.455806</td>\n",
       "      <td>0.011496</td>\n",
       "      <td>2733.778036</td>\n",
       "      <td>5.531127</td>\n",
       "      <td>...</td>\n",
       "      <td>0.0</td>\n",
       "      <td>1.072299</td>\n",
       "      <td>0.0</td>\n",
       "      <td>0.0</td>\n",
       "      <td>0.0</td>\n",
       "      <td>0.0</td>\n",
       "      <td>0.0</td>\n",
       "      <td>0.0</td>\n",
       "      <td>0.000000</td>\n",
       "      <td>0.0</td>\n",
       "    </tr>\n",
       "    <tr>\n",
       "      <th>2</th>\n",
       "      <td>3088.324879</td>\n",
       "      <td>13.673933</td>\n",
       "      <td>13.646332</td>\n",
       "      <td>709.693715</td>\n",
       "      <td>8.819786</td>\n",
       "      <td>0.000000</td>\n",
       "      <td>2.767241</td>\n",
       "      <td>0.003981</td>\n",
       "      <td>2731.294507</td>\n",
       "      <td>7.353451</td>\n",
       "      <td>...</td>\n",
       "      <td>0.0</td>\n",
       "      <td>1.617006</td>\n",
       "      <td>0.0</td>\n",
       "      <td>0.0</td>\n",
       "      <td>0.0</td>\n",
       "      <td>0.0</td>\n",
       "      <td>0.0</td>\n",
       "      <td>0.0</td>\n",
       "      <td>0.000000</td>\n",
       "      <td>0.0</td>\n",
       "    </tr>\n",
       "    <tr>\n",
       "      <th>3</th>\n",
       "      <td>3083.345093</td>\n",
       "      <td>13.486933</td>\n",
       "      <td>13.457360</td>\n",
       "      <td>1145.756637</td>\n",
       "      <td>10.479591</td>\n",
       "      <td>0.000000</td>\n",
       "      <td>3.720770</td>\n",
       "      <td>0.003513</td>\n",
       "      <td>2731.068403</td>\n",
       "      <td>5.512634</td>\n",
       "      <td>...</td>\n",
       "      <td>0.0</td>\n",
       "      <td>2.161709</td>\n",
       "      <td>0.0</td>\n",
       "      <td>0.0</td>\n",
       "      <td>0.0</td>\n",
       "      <td>0.0</td>\n",
       "      <td>0.0</td>\n",
       "      <td>0.0</td>\n",
       "      <td>0.000000</td>\n",
       "      <td>0.0</td>\n",
       "    </tr>\n",
       "    <tr>\n",
       "      <th>4</th>\n",
       "      <td>3080.194446</td>\n",
       "      <td>11.769865</td>\n",
       "      <td>11.722549</td>\n",
       "      <td>1118.038990</td>\n",
       "      <td>6.756245</td>\n",
       "      <td>0.086196</td>\n",
       "      <td>2.198199</td>\n",
       "      <td>0.010363</td>\n",
       "      <td>2730.667558</td>\n",
       "      <td>10.568933</td>\n",
       "      <td>...</td>\n",
       "      <td>0.0</td>\n",
       "      <td>2.716404</td>\n",
       "      <td>0.0</td>\n",
       "      <td>0.0</td>\n",
       "      <td>0.0</td>\n",
       "      <td>0.0</td>\n",
       "      <td>0.0</td>\n",
       "      <td>0.0</td>\n",
       "      <td>0.050041</td>\n",
       "      <td>0.0</td>\n",
       "    </tr>\n",
       "  </tbody>\n",
       "</table>\n",
       "<p>5 rows × 672 columns</p>\n",
       "</div>"
      ],
      "text/plain": [
       "      shasta_S   shasta_R  shasta_R_to_delta  shasta_available_storage  \\\n",
       "0  3090.000000   7.524298           7.490782                  0.000000   \n",
       "1  3092.081101  12.756535          12.726962                321.316346   \n",
       "2  3088.324879  13.673933          13.646332                709.693715   \n",
       "3  3083.345093  13.486933          13.457360               1145.756637   \n",
       "4  3080.194446  11.769865          11.722549               1118.038990   \n",
       "\n",
       "    shasta_Q  shasta_SNPK  shasta_downstream  shasta_fnf   oroville_S  \\\n",
       "0   9.668217     0.000000           6.110359    0.016008  2740.000000   \n",
       "1   9.133803     0.000000           2.455806    0.011496  2733.778036   \n",
       "2   8.819786     0.000000           2.767241    0.003981  2731.294507   \n",
       "3  10.479591     0.000000           3.720770    0.003513  2731.068403   \n",
       "4   6.756245     0.086196           2.198199    0.010363  2730.667558   \n",
       "\n",
       "   oroville_R  ...  b2800_BLR  b2800_BVA  b2800_CWO  b2800_KCWA  b2800_KND  \\\n",
       "0   12.218333  ...        0.0   0.496303        0.0         0.0        0.0   \n",
       "1    5.531127  ...        0.0   1.072299        0.0         0.0        0.0   \n",
       "2    7.353451  ...        0.0   1.617006        0.0         0.0        0.0   \n",
       "3    5.512634  ...        0.0   2.161709        0.0         0.0        0.0   \n",
       "4   10.568933  ...        0.0   2.716404        0.0         0.0        0.0   \n",
       "\n",
       "   b2800_LHL  b2800_WRM  wkwb_WKN  northkernwb_NKN  northkernwb_CWO  \n",
       "0        0.0        0.0       0.0         0.000000              0.0  \n",
       "1        0.0        0.0       0.0         0.000000              0.0  \n",
       "2        0.0        0.0       0.0         0.000000              0.0  \n",
       "3        0.0        0.0       0.0         0.000000              0.0  \n",
       "4        0.0        0.0       0.0         0.050041              0.0  \n",
       "\n",
       "[5 rows x 672 columns]"
      ]
     },
     "execution_count": 26,
     "metadata": {},
     "output_type": "execute_result"
    }
   ],
   "source": [
    "df.head()"
   ]
  },
  {
   "cell_type": "code",
   "execution_count": 27,
   "metadata": {},
   "outputs": [],
   "source": [
    "# set(df.columns)"
   ]
  },
  {
   "cell_type": "markdown",
   "metadata": {},
   "source": [
    "### Visualize data"
   ]
  },
  {
   "cell_type": "code",
   "execution_count": 28,
   "metadata": {},
   "outputs": [
    {
     "data": {
      "text/plain": [
       "Text(0.5, 1.0, 'Shasta inflow (TAF/day), 1996-2016')"
      ]
     },
     "execution_count": 28,
     "metadata": {},
     "output_type": "execute_result"
    },
    {
     "data": {
      "image/png": "[encoded data removed]",
      "text/plain": [
       "<Figure size 432x288 with 1 Axes>"
      ]
     },
     "metadata": {},
     "output_type": "display_data"
    }
   ],
   "source": [
    "plt.plot(df.shasta_Q)\n",
    "plt.title('Shasta inflow (TAF/day), 1996-2016')"
   ]
  },
  {
   "cell_type": "code",
   "execution_count": 29,
   "metadata": {},
   "outputs": [
    {
     "data": {
      "text/plain": [
       "Text(0.5, 1.0, 'Shasta release (TAF/day), 1996-2016')"
      ]
     },
     "execution_count": 29,
     "metadata": {},
     "output_type": "execute_result"
    },
    {
     "data": {
      "image/png": "[encoded data removed]",
      "text/plain": [
       "<Figure size 432x288 with 1 Axes>"
      ]
     },
     "metadata": {},
     "output_type": "display_data"
    }
   ],
   "source": [
    "plt.plot(df.shasta_R)\n",
    "plt.title('Shasta release (TAF/day), 1996-2016')"
   ]
  },
  {
   "cell_type": "code",
   "execution_count": 30,
   "metadata": {},
   "outputs": [
    {
     "data": {
      "text/plain": [
       "Text(0.5, 1.0, 'Shasta storage (TAF), 1996-2016')"
      ]
     },
     "execution_count": 30,
     "metadata": {},
     "output_type": "execute_result"
    },
    {
     "data": {
      "image/png": "[encoded data removed]",
      "text/plain": [
       "<Figure size 432x288 with 1 Axes>"
      ]
     },
     "metadata": {},
     "output_type": "display_data"
    }
   ],
   "source": [
    "plt.plot(df.shasta_S)\n",
    "plt.title('Shasta storage (TAF), 1996-2016')"
   ]
  },
  {
   "cell_type": "code",
   "execution_count": 31,
   "metadata": {},
   "outputs": [
    {
     "data": {
      "text/plain": [
       "Text(0.5, 1.0, 'Delta pumping (TAF/day), 1996-2016')"
      ]
     },
     "execution_count": 31,
     "metadata": {},
     "output_type": "execute_result"
    },
    {
     "data": {
      "image/png": "[encoded data removed]",
      "text/plain": [
       "<Figure size 432x288 with 1 Axes>"
      ]
     },
     "metadata": {},
     "output_type": "display_data"
    }
   ],
   "source": [
    "plt.plot(df.delta_HRO_pump + df.delta_TRP_pump)\n",
    "plt.title('Delta pumping (TAF/day), 1996-2016')"
   ]
  },
  {
   "cell_type": "code",
   "execution_count": 32,
   "metadata": {},
   "outputs": [
    {
     "data": {
      "text/plain": [
       "Text(0.5, 1.0, 'Lost Hills Table A delivery (TAF/day), 1996-2016')"
      ]
     },
     "execution_count": 32,
     "metadata": {},
     "output_type": "execute_result"
    },
    {
     "data": {
      "image/png": "[encoded data removed]",
      "text/plain": [
       "<Figure size 432x288 with 1 Axes>"
      ]
     },
     "metadata": {},
     "output_type": "display_data"
    }
   ],
   "source": [
    "plt.plot(df.losthills_tableA_delivery)\n",
    "plt.title('Lost Hills Table A delivery (TAF/day), 1996-2016')"
   ]
  },
  {
   "cell_type": "code",
   "execution_count": 33,
   "metadata": {},
   "outputs": [
    {
     "data": {
      "text/plain": [
       "Text(0.5, 1.0, 'Wonderful banked groundwater at Semitropic (TAF), 1996-2016')"
      ]
     },
     "execution_count": 33,
     "metadata": {},
     "output_type": "execute_result"
    },
    {
     "data": {
      "image/png": "[encoded data removed]",
      "text/plain": [
       "<Figure size 432x288 with 1 Axes>"
      ]
     },
     "metadata": {},
     "output_type": "display_data"
    }
   ],
   "source": [
    "plt.plot(df.kwb_WON)\n",
    "plt.title('Wonderful banked groundwater at Semitropic (TAF), 1996-2016')"
   ]
  }
 ],
 "metadata": {
  "kernelspec": {
   "display_name": ".venv_calfews",
   "language": "python",
   "name": ".venv_calfews"
  },
  "language_info": {
   "codemirror_mode": {
    "name": "ipython",
    "version": 3
   },
   "file_extension": ".py",
   "mimetype": "text/x-python",
   "name": "python",
   "nbconvert_exporter": "python",
   "pygments_lexer": "ipython3",
   "version": "3.6.9"
  }
 },
 "nbformat": 4,
 "nbformat_minor": 4
}
