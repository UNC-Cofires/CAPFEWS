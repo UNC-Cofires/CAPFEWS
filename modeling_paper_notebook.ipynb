{
 "cells": [
  {
   "cell_type": "markdown",
   "metadata": {},
   "source": [
    "# CALFEWS: California Food-Energy-Water System simulation model\n",
    "\n",
    "This notebook will rerun all simulations and recreate all figures from the following manuscript:\n",
    "\n",
    "Zeff, H.B., Herman, J.D., Hamilton, A.L., Malek, K., Cohen, J.S., Medellin-Azuara, J., Reed, P.M., and G.W. Characklis. (2020). \"California's Food-Energy-Water System: An Open Source Simulation Model of Adaptive Surface and Groundwater Management in the Central Valley.\" (In preparation).\n",
    "\n",
    "Prior to running this notebook, follow the instructions in \"README.md\" to download the model and data, and install all Python dependencies."
   ]
  },
  {
   "cell_type": "markdown",
   "metadata": {},
   "source": [
    "## Run validation \n",
    "\n",
    "First, make sure you do not already have output stored at ``results/baseline_wy2017/validation/CDEC/`` or ``results/baseline_wy2017/simulation/CDEC/``. If so, it needs to be moved or deleted, or it will cause an error.\n",
    "\n",
    "Override parameter file with version in \"runtime_params_validation.ini\""
   ]
  },
  {
   "cell_type": "code",
   "execution_count": 1,
   "metadata": {},
   "outputs": [],
   "source": [
    "! cp runtime_params_validation.ini runtime_params.ini"
   ]
  },
  {
   "cell_type": "markdown",
   "metadata": {},
   "source": [
    "Run validation mode (1997-2016). This will take ~7-10 minutes."
   ]
  },
  {
   "cell_type": "code",
   "execution_count": 2,
   "metadata": {},
   "outputs": [
    {
     "name": "stdout",
     "output_type": "stream",
     "text": [
      "validation\n",
      "#######################################################\n",
      "Sample 0 start\n",
      "Initialization complete,  0:00:31.720474\n",
      "Year  1.0 ,  0:01:04.617288\n",
      "Year  2.0 ,  0:01:35.154567\n",
      "Year  3.0 ,  0:02:02.481220\n",
      "Year  4.0 ,  0:02:27.466112\n",
      "Year  5.0 ,  0:02:53.594100\n",
      "Year  6.0 ,  0:03:19.138998\n",
      "Year  7.0 ,  0:03:42.994602\n",
      "Year  8.0 ,  0:04:06.402778\n",
      "Year  9.0 ,  0:04:32.360636\n",
      "Year  10.0 ,  0:05:10.032973\n",
      "Year  11.0 ,  0:05:34.410999\n",
      "Year  12.0 ,  0:05:59.368097\n",
      "Year  13.0 ,  0:06:21.481114\n",
      "Year  14.0 ,  0:06:49.038153\n",
      "Year  15.0 ,  0:07:15.293386\n",
      "Year  16.0 ,  0:07:36.307888\n",
      "Year  17.0 ,  0:07:57.777414\n",
      "Year  18.0 ,  0:08:20.085893\n",
      "Year  19.0 ,  0:08:39.955086\n",
      "Year  20.0 ,  0:09:04.199270\n",
      "Sample 0 completed in  0:09:18.141089\n",
      "Total run completed in  0:09:18.141171\n"
     ]
    }
   ],
   "source": [
    "! python3 -W ignore run_main_cy.py"
   ]
  },
  {
   "cell_type": "markdown",
   "metadata": {},
   "source": [
    "## Run simulation \n",
    "Now change to simulation mode (1906-2016) and rerun. This will take ~35-50 minutes."
   ]
  },
  {
   "cell_type": "code",
   "execution_count": 3,
   "metadata": {
    "scrolled": false
   },
   "outputs": [
    {
     "name": "stdout",
     "output_type": "stream",
     "text": [
      "simulation\n",
      "#######################################################\n",
      "Sample 0 start\n",
      "Initialization complete,  0:01:44.652124\n",
      "Year  1.0 ,  0:02:19.860133\n",
      "Year  2.0 ,  0:02:51.107957\n",
      "Year  3.0 ,  0:03:17.532279\n",
      "Year  4.0 ,  0:03:47.152935\n",
      "Year  5.0 ,  0:04:13.994578\n",
      "Year  6.0 ,  0:04:42.811542\n",
      "Year  7.0 ,  0:05:13.782586\n",
      "Year  8.0 ,  0:05:46.566743\n",
      "Year  9.0 ,  0:06:15.037385\n",
      "Year  10.0 ,  0:06:45.460740\n",
      "Year  11.0 ,  0:07:19.279780\n",
      "Year  12.0 ,  0:07:48.679812\n",
      "Year  13.0 ,  0:08:14.777631\n",
      "Year  14.0 ,  0:08:39.683501\n",
      "Year  15.0 ,  0:09:04.270135\n",
      "Year  16.0 ,  0:09:30.203313\n",
      "Year  17.0 ,  0:10:05.780823\n",
      "Year  18.0 ,  0:10:34.221542\n",
      "Year  19.0 ,  0:10:56.413706\n",
      "Year  20.0 ,  0:11:19.304204\n",
      "Year  21.0 ,  0:11:43.532047\n",
      "Year  22.0 ,  0:12:12.749716\n",
      "Year  23.0 ,  0:12:37.888145\n",
      "Year  24.0 ,  0:13:02.236871\n",
      "Year  25.0 ,  0:13:26.330247\n",
      "Year  26.0 ,  0:13:49.720195\n",
      "Year  27.0 ,  0:14:13.164064\n",
      "Year  28.0 ,  0:14:38.945778\n",
      "Year  29.0 ,  0:15:02.723384\n",
      "Year  30.0 ,  0:15:27.472168\n",
      "Year  31.0 ,  0:15:51.114672\n",
      "Year  32.0 ,  0:16:18.924566\n",
      "Year  33.0 ,  0:16:50.544047\n",
      "Year  34.0 ,  0:17:16.780202\n",
      "Year  35.0 ,  0:17:43.268409\n",
      "Year  36.0 ,  0:18:20.785713\n",
      "Year  37.0 ,  0:18:55.556626\n",
      "Year  38.0 ,  0:19:33.919985\n",
      "Year  39.0 ,  0:20:05.136127\n",
      "Year  40.0 ,  0:20:38.250756\n",
      "Year  41.0 ,  0:21:03.945567\n",
      "Year  42.0 ,  0:21:29.786271\n",
      "Year  43.0 ,  0:21:52.310568\n",
      "Year  44.0 ,  0:22:14.783337\n",
      "Year  45.0 ,  0:22:39.704102\n",
      "Year  46.0 ,  0:23:05.596546\n",
      "Year  47.0 ,  0:23:31.372421\n",
      "Year  48.0 ,  0:23:52.445484\n",
      "Year  49.0 ,  0:24:12.727098\n",
      "Year  50.0 ,  0:24:33.230822\n",
      "Year  51.0 ,  0:24:55.237316\n",
      "Year  52.0 ,  0:25:15.501510\n",
      "Year  53.0 ,  0:25:38.448664\n",
      "Year  54.0 ,  0:25:58.763801\n",
      "Year  55.0 ,  0:26:18.983031\n",
      "Year  56.0 ,  0:26:40.185996\n",
      "Year  57.0 ,  0:27:00.341956\n",
      "Year  58.0 ,  0:27:22.924852\n",
      "Year  59.0 ,  0:27:44.654758\n",
      "Year  60.0 ,  0:28:05.305165\n",
      "Year  61.0 ,  0:28:28.502262\n",
      "Year  62.0 ,  0:28:56.719348\n",
      "Year  63.0 ,  0:29:20.758684\n",
      "Year  64.0 ,  0:29:48.926058\n",
      "Year  65.0 ,  0:30:10.867835\n",
      "Year  66.0 ,  0:30:33.330113\n",
      "Year  67.0 ,  0:30:54.854080\n",
      "Year  68.0 ,  0:31:19.322171\n",
      "Year  69.0 ,  0:31:44.964230\n",
      "Year  70.0 ,  0:32:04.939608\n",
      "Year  71.0 ,  0:32:25.178953\n",
      "Year  72.0 ,  0:32:43.042625\n",
      "Year  73.0 ,  0:33:06.891587\n",
      "Year  74.0 ,  0:33:31.520038\n",
      "Year  75.0 ,  0:33:57.079683\n",
      "Year  76.0 ,  0:34:18.253594\n",
      "Year  77.0 ,  0:34:43.361818\n",
      "Year  78.0 ,  0:35:13.887508\n",
      "Year  79.0 ,  0:35:38.467173\n",
      "Year  80.0 ,  0:35:59.914113\n",
      "Year  81.0 ,  0:36:27.272743\n",
      "Year  82.0 ,  0:36:47.898738\n",
      "Year  83.0 ,  0:37:07.551993\n",
      "Year  84.0 ,  0:37:28.533488\n",
      "Year  85.0 ,  0:37:48.198813\n",
      "Year  86.0 ,  0:38:06.559266\n",
      "Year  87.0 ,  0:38:26.014765\n",
      "Year  88.0 ,  0:38:47.526845\n",
      "Year  89.0 ,  0:39:07.883802\n",
      "Year  90.0 ,  0:39:33.271600\n",
      "Year  91.0 ,  0:39:58.885395\n",
      "Year  92.0 ,  0:40:24.994353\n",
      "Year  93.0 ,  0:40:50.860419\n",
      "Year  94.0 ,  0:41:14.737586\n",
      "Year  95.0 ,  0:41:37.208910\n",
      "Year  96.0 ,  0:41:57.293035\n",
      "Year  97.0 ,  0:42:17.472863\n",
      "Year  98.0 ,  0:42:38.367287\n",
      "Year  99.0 ,  0:42:58.281197\n",
      "Year  100.0 ,  0:43:22.262598\n",
      "Year  101.0 ,  0:43:48.721350\n",
      "Year  102.0 ,  0:44:08.828648\n",
      "Year  103.0 ,  0:44:29.923272\n",
      "Year  104.0 ,  0:44:49.565070\n",
      "Year  105.0 ,  0:45:09.920899\n",
      "Year  106.0 ,  0:45:36.342176\n",
      "Year  107.0 ,  0:45:57.739807\n",
      "Year  108.0 ,  0:46:17.364265\n",
      "Year  109.0 ,  0:46:37.526169\n",
      "Year  110.0 ,  0:46:55.865763\n",
      "Year  111.0 ,  0:47:15.939226\n",
      "Sample 0 completed in  0:48:30.261695\n",
      "Total run completed in  0:48:30.267950\n"
     ]
    }
   ],
   "source": [
    "! sed -i 's:\\\"validation\\\":\\\"simulation\\\":' runtime_params.ini\n",
    "! python3 -W ignore run_main_cy.py"
   ]
  },
  {
   "cell_type": "markdown",
   "metadata": {},
   "source": [
    "## Post-processing\n",
    "Run post-processing to analyze and visualize results. This will take a few hours."
   ]
  },
  {
   "cell_type": "code",
   "execution_count": 17,
   "metadata": {
    "scrolled": false
   },
   "outputs": [
    {
     "name": "stdout",
     "output_type": "stream",
     "text": [
      "Finish set up,  0:00:25.905994\n",
      "findfont: Font family ['Gill Sans MT'] not found. Falling back to DejaVu Sans.\n",
      "findfont: Font family ['Gill Sans MT'] not found. Falling back to DejaVu Sans.\n",
      "findfont: Font family ['Gill Sans MT'] not found. Falling back to DejaVu Sans.\n",
      "Finish Delta pumping/outflow figure,  0:02:29.099339\n",
      "findfont: Font family ['Gill Sans MT'] not found. Falling back to DejaVu Sans.\n",
      "findfont: Font family ['Gill Sans MT'] not found. Falling back to DejaVu Sans.\n",
      "findfont: Font family ['Gill Sans MT'] not found. Falling back to DejaVu Sans.\n",
      "findfont: Font family ['Gill Sans MT'] not found. Falling back to DejaVu Sans.\n",
      "findfont: Font family ['Gill Sans MT'] not found. Falling back to DejaVu Sans.\n",
      "Finish district deliveries figure,  0:31:39.013190\n",
      "findfont: Font family ['Gill Sans MT'] not found. Falling back to DejaVu Sans.\n",
      "Finish snowpack/flow relationship figure,  0:40:43.109335\n",
      "findfont: Font family ['Gill Sans MT'] not found. Falling back to DejaVu Sans.\n",
      "Finish state response figure,  0:40:50.707677\n",
      "findfont: Font family ['Gill Sans MT'] not found. Falling back to DejaVu Sans.\n",
      "Finish validation figures,  0:41:09.514296\n",
      "Starting Sankey diagrams (this will take a while)\n",
      "14600 September\n",
      "findfont: Font family ['Gill Sans MT'] not found. Falling back to DejaVu Sans.\n",
      "14601 September\n",
      "14602 September\n",
      "14603 September\n",
      "14604 September\n",
      "14605 September\n",
      "14606 September\n",
      "14607 September\n",
      "14608 September\n",
      "14609 September\n",
      "14610 October\n",
      "14611 October\n",
      "14612 October\n",
      "14613 October\n",
      "14614 October\n",
      "14615 October\n",
      "14616 October\n",
      "14617 October\n",
      "14618 October\n",
      "14619 October\n",
      "14620 October\n",
      "14621 October\n",
      "14622 October\n",
      "14623 October\n",
      "14624 October\n",
      "14625 October\n",
      "14626 October\n",
      "14627 October\n",
      "14628 October\n",
      "14629 October\n",
      "14630 October\n",
      "14631 October\n",
      "14632 October\n",
      "14633 October\n",
      "14634 October\n",
      "14635 October\n",
      "14636 October\n",
      "14637 October\n",
      "14638 October\n",
      "14639 October\n",
      "14640 October\n",
      "14641 November\n",
      "14642 November\n",
      "14643 November\n",
      "14644 November\n",
      "14645 November\n",
      "14646 November\n",
      "14647 November\n",
      "14648 November\n",
      "14649 November\n",
      "14650 November\n",
      "14651 November\n",
      "14652 November\n",
      "14653 November\n",
      "14654 November\n",
      "14655 November\n",
      "14656 November\n",
      "14657 November\n",
      "14658 November\n",
      "14659 November\n",
      "14660 November\n",
      "14661 November\n",
      "14662 November\n",
      "14663 November\n",
      "14664 November\n",
      "14665 November\n",
      "14666 November\n",
      "14667 November\n",
      "14668 November\n",
      "14669 November\n",
      "14670 November\n",
      "14671 December\n",
      "14672 December\n",
      "14673 December\n",
      "14674 December\n",
      "14675 December\n",
      "14676 December\n",
      "14677 December\n",
      "14678 December\n",
      "14679 December\n",
      "14680 December\n",
      "14681 December\n",
      "14682 December\n",
      "14683 December\n",
      "14684 December\n",
      "14685 December\n",
      "14686 December\n",
      "14687 December\n",
      "14688 December\n",
      "14689 December\n",
      "14690 December\n",
      "14691 December\n",
      "14692 December\n",
      "14693 December\n",
      "14694 December\n",
      "14695 December\n",
      "14696 December\n",
      "14697 December\n",
      "14698 December\n",
      "14699 December\n",
      "14700 December\n",
      "14701 December\n",
      "14702 January\n",
      "14703 January\n",
      "14704 January\n",
      "14705 January\n",
      "14706 January\n",
      "14707 January\n",
      "14708 January\n",
      "14709 January\n",
      "14710 January\n",
      "14711 January\n",
      "14712 January\n",
      "14713 January\n",
      "14714 January\n",
      "14715 January\n",
      "14716 January\n",
      "14717 January\n",
      "14718 January\n",
      "14719 January\n",
      "14720 January\n",
      "14721 January\n",
      "14722 January\n",
      "14723 January\n",
      "14724 January\n",
      "14725 January\n",
      "14726 January\n",
      "14727 January\n",
      "14728 January\n",
      "14729 January\n",
      "14730 January\n",
      "14731 January\n",
      "14732 January\n",
      "14733 February\n",
      "14734 February\n",
      "14735 February\n",
      "14736 February\n",
      "14737 February\n",
      "14738 February\n",
      "14739 February\n",
      "14740 February\n",
      "14741 February\n",
      "14742 February\n",
      "14743 February\n",
      "14744 February\n",
      "14745 February\n",
      "14746 February\n",
      "14747 February\n",
      "14748 February\n",
      "14749 February\n",
      "14750 February\n",
      "14751 February\n",
      "14752 February\n",
      "14753 February\n",
      "14754 February\n",
      "14755 February\n",
      "14756 February\n",
      "14757 February\n",
      "14758 February\n",
      "14759 February\n",
      "14760 February\n",
      "14761 March\n",
      "14762 March\n",
      "14763 March\n",
      "14764 March\n",
      "14765 March\n",
      "14766 March\n",
      "14767 March\n",
      "14768 March\n",
      "14769 March\n",
      "14770 March\n",
      "14771 March\n",
      "14772 March\n",
      "14773 March\n",
      "14774 March\n",
      "14775 March\n",
      "14776 March\n",
      "14777 March\n",
      "14778 March\n",
      "14779 March\n",
      "14780 March\n",
      "14781 March\n",
      "14782 March\n",
      "14783 March\n",
      "14784 March\n",
      "14785 March\n",
      "14786 March\n",
      "14787 March\n",
      "14788 March\n",
      "14789 March\n",
      "14790 March\n",
      "14791 March\n",
      "14792 April\n",
      "14793 April\n",
      "14794 April\n",
      "14795 April\n",
      "14796 April\n",
      "14797 April\n",
      "14798 April\n",
      "14799 April\n",
      "14800 April\n",
      "14801 April\n",
      "14802 April\n",
      "14803 April\n",
      "14804 April\n",
      "14805 April\n",
      "14806 April\n",
      "14807 April\n",
      "14808 April\n",
      "14809 April\n",
      "14810 April\n",
      "14811 April\n",
      "14812 April\n",
      "14813 April\n",
      "14814 April\n",
      "14815 April\n",
      "14816 April\n",
      "14817 April\n",
      "14818 April\n",
      "14819 April\n",
      "14820 April\n",
      "14821 April\n",
      "14822 May\n",
      "14823 May\n",
      "14824 May\n",
      "14825 May\n",
      "14826 May\n",
      "14827 May\n",
      "14828 May\n",
      "14829 May\n",
      "14830 May\n",
      "14831 May\n",
      "14832 May\n",
      "14833 May\n",
      "14834 May\n",
      "14835 May\n",
      "14836 May\n",
      "14837 May\n",
      "14838 May\n",
      "14839 May\n",
      "14840 May\n",
      "14841 May\n",
      "14842 May\n",
      "14843 May\n",
      "14844 May\n",
      "14845 May\n",
      "14846 May\n",
      "14847 May\n",
      "14848 May\n",
      "14849 May\n",
      "14850 May\n",
      "14851 May\n",
      "14852 May\n",
      "14853 June\n",
      "14854 June\n",
      "14855 June\n",
      "14856 June\n",
      "14857 June\n",
      "14858 June\n",
      "14859 June\n",
      "14860 June\n",
      "14861 June\n",
      "14862 June\n",
      "14863 June\n",
      "14864 June\n",
      "14865 June\n",
      "14866 June\n",
      "14867 June\n",
      "14868 June\n",
      "14869 June\n",
      "14870 June\n",
      "14871 June\n",
      "14872 June\n",
      "14873 June\n",
      "14874 June\n",
      "14875 June\n",
      "14876 June\n",
      "14877 June\n",
      "14878 June\n",
      "14879 June\n",
      "14880 June\n",
      "14881 June\n",
      "14882 June\n",
      "14883 July\n",
      "14884 July\n",
      "14885 July\n",
      "14886 July\n",
      "14887 July\n",
      "14888 July\n",
      "14889 July\n",
      "14890 July\n",
      "14891 July\n",
      "14892 July\n",
      "14893 July\n",
      "14894 July\n",
      "14895 July\n",
      "14896 July\n",
      "14897 July\n",
      "14898 July\n",
      "14899 July\n",
      "14900 July\n",
      "14901 July\n",
      "14902 July\n",
      "14903 July\n",
      "14904 July\n",
      "14905 July\n",
      "14906 July\n",
      "14907 July\n",
      "14908 July\n",
      "14909 July\n",
      "14910 July\n",
      "14911 July\n",
      "14912 July\n",
      "14913 July\n",
      "14914 August\n",
      "14915 August\n",
      "14916 August\n",
      "14917 August\n",
      "14918 August\n",
      "14919 August\n",
      "14920 August\n",
      "14921 August\n",
      "14922 August\n",
      "14923 August\n",
      "14924 August\n",
      "14925 August\n",
      "14926 August\n",
      "14927 August\n",
      "14928 August\n",
      "14929 August\n",
      "14930 August\n",
      "14931 August\n",
      "14932 August\n",
      "14933 August\n",
      "14934 August\n",
      "14935 August\n",
      "14936 August\n",
      "14937 August\n",
      "14938 August\n",
      "14939 August\n",
      "14940 August\n",
      "14941 August\n",
      "14942 August\n",
      "14943 August\n",
      "14944 August\n",
      "14945 September\n",
      "14946 September\n",
      "14947 September\n",
      "14948 September\n",
      "14949 September\n",
      "14950 September\n",
      "14951 September\n",
      "14952 September\n",
      "14953 September\n",
      "14954 September\n",
      "14955 September\n",
      "14956 September\n",
      "14957 September\n",
      "14958 September\n",
      "14959 September\n",
      "14960 September\n",
      "14961 September\n",
      "14962 September\n",
      "14963 September\n",
      "14964 September\n",
      "14965 September\n",
      "14966 September\n",
      "14967 September\n",
      "14968 September\n",
      "14969 September\n",
      "14970 September\n",
      "14971 September\n",
      "14972 September\n",
      "14973 September\n",
      "14974 September\n",
      "Finish Sankey gif,  2:49:32.188675\n"
     ]
    }
   ],
   "source": [
    "! python3 -W ignore modeling_paper_postprocess.py"
   ]
  },
  {
   "cell_type": "markdown",
   "metadata": {},
   "source": [
    "Show figures from postprocessing scripts. Note that if you rerun this, you may need to save your changes and then refresh the browser for the figures below to update to their newest versions."
   ]
  },
  {
   "cell_type": "code",
   "execution_count": 5,
   "metadata": {},
   "outputs": [
    {
     "data": {
      "text/html": [
       "<img src=\"results/baseline_wy2017/figures/delta_pumping_extended_simulation.png\">"
      ],
      "text/plain": [
       "<IPython.core.display.HTML object>"
      ]
     },
     "execution_count": 5,
     "metadata": {},
     "output_type": "execute_result"
    }
   ],
   "source": [
    "from IPython.display import HTML\n",
    "HTML('<img src=\"results/baseline_wy2017/figures/delta_pumping_extended_simulation.png\">')"
   ]
  },
  {
   "cell_type": "code",
   "execution_count": 18,
   "metadata": {},
   "outputs": [
    {
     "data": {
      "text/html": [
       "<img src=\"results/baseline_wy2017/figures/district_water_use_annual_validation.png\">"
      ],
      "text/plain": [
       "<IPython.core.display.HTML object>"
      ]
     },
     "execution_count": 18,
     "metadata": {},
     "output_type": "execute_result"
    }
   ],
   "source": [
    "HTML('<img src=\"results/baseline_wy2017/figures/district_water_use_annual_validation.png\">')"
   ]
  },
  {
   "cell_type": "code",
   "execution_count": 19,
   "metadata": {},
   "outputs": [
    {
     "data": {
      "text/html": [
       "<img src=\"results/baseline_wy2017/figures/district_water_use_annual_simulation.png\">"
      ],
      "text/plain": [
       "<IPython.core.display.HTML object>"
      ]
     },
     "execution_count": 19,
     "metadata": {},
     "output_type": "execute_result"
    }
   ],
   "source": [
    "HTML('<img src=\"results/baseline_wy2017/figures/district_water_use_annual_simulation.png\">')"
   ]
  },
  {
   "cell_type": "code",
   "execution_count": 8,
   "metadata": {},
   "outputs": [
    {
     "data": {
      "text/html": [
       "<img src=\"results/baseline_wy2017/figures/state_estimation_publication.png\">"
      ],
      "text/plain": [
       "<IPython.core.display.HTML object>"
      ]
     },
     "execution_count": 8,
     "metadata": {},
     "output_type": "execute_result"
    }
   ],
   "source": [
    "HTML('<img src=\"results/baseline_wy2017/figures/state_estimation_publication.png\">')"
   ]
  },
  {
   "cell_type": "code",
   "execution_count": 9,
   "metadata": {
    "scrolled": false
   },
   "outputs": [
    {
     "data": {
      "text/html": [
       "<img src=\"results/baseline_wy2017/figures/state_response_sanluisstate_wheeler.png\">"
      ],
      "text/plain": [
       "<IPython.core.display.HTML object>"
      ]
     },
     "execution_count": 9,
     "metadata": {},
     "output_type": "execute_result"
    }
   ],
   "source": [
    "HTML('<img src=\"results/baseline_wy2017/figures/state_response_sanluisstate_wheeler.png\">')"
   ]
  },
  {
   "cell_type": "code",
   "execution_count": 10,
   "metadata": {},
   "outputs": [
    {
     "data": {
      "text/html": [
       "<img src=\"results/baseline_wy2017/figures/model_validation_sierra.png\">"
      ],
      "text/plain": [
       "<IPython.core.display.HTML object>"
      ]
     },
     "execution_count": 10,
     "metadata": {},
     "output_type": "execute_result"
    }
   ],
   "source": [
    "HTML('<img src=\"results/baseline_wy2017/figures/model_validation_sierra.png\">')"
   ]
  },
  {
   "cell_type": "code",
   "execution_count": 11,
   "metadata": {},
   "outputs": [
    {
     "data": {
      "text/html": [
       "<img src=\"results/baseline_wy2017/figures/model_validation_delta.png\">"
      ],
      "text/plain": [
       "<IPython.core.display.HTML object>"
      ]
     },
     "execution_count": 11,
     "metadata": {},
     "output_type": "execute_result"
    }
   ],
   "source": [
    "HTML('<img src=\"results/baseline_wy2017/figures/model_validation_delta.png\">')"
   ]
  },
  {
   "cell_type": "code",
   "execution_count": 12,
   "metadata": {},
   "outputs": [
    {
     "data": {
      "text/html": [
       "<img src=\"results/baseline_wy2017/figures/model_validation_sanluis.png\">"
      ],
      "text/plain": [
       "<IPython.core.display.HTML object>"
      ]
     },
     "execution_count": 12,
     "metadata": {},
     "output_type": "execute_result"
    }
   ],
   "source": [
    "HTML('<img src=\"results/baseline_wy2017/figures/model_validation_sanluis.png\">')"
   ]
  },
  {
   "cell_type": "code",
   "execution_count": 13,
   "metadata": {},
   "outputs": [
    {
     "data": {
      "text/html": [
       "<img src=\"results/baseline_wy2017/figures/model_validation_bank.png\">"
      ],
      "text/plain": [
       "<IPython.core.display.HTML object>"
      ]
     },
     "execution_count": 13,
     "metadata": {},
     "output_type": "execute_result"
    }
   ],
   "source": [
    "HTML('<img src=\"results/baseline_wy2017/figures/model_validation_bank.png\">')"
   ]
  },
  {
   "cell_type": "code",
   "execution_count": 14,
   "metadata": {},
   "outputs": [
    {
     "data": {
      "text/html": [
       "<img src=\"results/baseline_wy2017/sankeys/cali_sankey1946.gif\">"
      ],
      "text/plain": [
       "<IPython.core.display.HTML object>"
      ]
     },
     "execution_count": 14,
     "metadata": {},
     "output_type": "execute_result"
    }
   ],
   "source": [
    "HTML('<img src=\"results/baseline_wy2017/sankeys/cali_sankey1946.gif\">')"
   ]
  }
 ],
 "metadata": {
  "kernelspec": {
   "display_name": ".venv_calfews",
   "language": "python",
   "name": ".venv_calfews"
  },
  "language_info": {
   "codemirror_mode": {
    "name": "ipython",
    "version": 3
   },
   "file_extension": ".py",
   "mimetype": "text/x-python",
   "name": "python",
   "nbconvert_exporter": "python",
   "pygments_lexer": "ipython3",
   "version": "3.6.9"
  }
 },
 "nbformat": 4,
 "nbformat_minor": 4
}
