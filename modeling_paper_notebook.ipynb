{
 "cells": [
  {
   "cell_type": "markdown",
   "metadata": {},
   "source": [
    "# CALFEWS: California Food-Energy-Water System simulation model\n",
    "\n",
    "This notebook will rerun all simulations and recreate all figures from the following manuscript:\n",
    "\n",
    "Zeff, H.B., Herman, J.D., Hamilton, A.L., Malek, K., Cohen, J.S., Medellin-Azuara, J., Reed, P.M., and G.W. Characklis. (2020). \"Paper title.\" *Journal Name*. (In preparation).\n",
    "\n",
    "Prior to running this notebook, follow the instructions in \"README.md\" to download the model and data, and install all Python dependencies."
   ]
  },
  {
   "cell_type": "markdown",
   "metadata": {},
   "source": [
    "## Run validation \n",
    "\n",
    "Make sure you do not already have a folder \"results/baseline_wy2017\" from a previous run. If so, you will get an error.\n",
    "\n",
    "#### Override parameter file with version in \"runtime_params_validation.ini\""
   ]
  },
  {
   "cell_type": "code",
   "execution_count": 1,
   "metadata": {},
   "outputs": [],
   "source": [
    "! cp runtime_params_validation.ini runtime_params.ini"
   ]
  },
  {
   "cell_type": "markdown",
   "metadata": {},
   "source": [
    "#### Run model. This will take ~15 minutes."
   ]
  },
  {
   "cell_type": "code",
   "execution_count": 2,
   "metadata": {},
   "outputs": [
    {
     "name": "stdout",
     "output_type": "stream",
     "text": [
      "validation\n",
      "#######################################################\n",
      "Sample 0 start\n",
      "Initialization complete,  0:00:27.562216\n",
      "Year  1.0 ,  0:01:02.199583\n",
      "Year  2.0 ,  0:01:37.589796\n",
      "Year  3.0 ,  0:02:07.933888\n",
      "Year  4.0 ,  0:02:37.667959\n",
      "Year  5.0 ,  0:03:06.982458\n",
      "Year  6.0 ,  0:03:35.903558\n",
      "Year  7.0 ,  0:04:03.261551\n",
      "Year  8.0 ,  0:04:31.089912\n",
      "Year  9.0 ,  0:05:02.381135\n",
      "Year  10.0 ,  0:05:35.641845\n",
      "Year  11.0 ,  0:06:02.644063\n",
      "Year  12.0 ,  0:06:27.593639\n",
      "Year  13.0 ,  0:06:51.983249\n",
      "Year  14.0 ,  0:07:19.394747\n",
      "Year  15.0 ,  0:07:53.625515\n",
      "Year  16.0 ,  0:08:21.731123\n",
      "Year  17.0 ,  0:08:46.983106\n",
      "Year  18.0 ,  0:09:10.704427\n",
      "Year  19.0 ,  0:09:32.266871\n",
      "Year  20.0 ,  0:09:57.424695\n",
      "Sample 0 completed in  0:10:02.396880\n",
      "Total run completed in  0:10:02.396945\n"
     ]
    }
   ],
   "source": [
    "! python3 -W ignore main.py"
   ]
  },
  {
   "cell_type": "markdown",
   "metadata": {},
   "source": [
    "## Run simulation \n",
    "#### Now change to simulation mode and rerun. This will take ~1.5 hours."
   ]
  },
  {
   "cell_type": "code",
   "execution_count": 3,
   "metadata": {
    "scrolled": false
   },
   "outputs": [
    {
     "name": "stdout",
     "output_type": "stream",
     "text": [
      "simulation\n",
      "#######################################################\n",
      "Sample 0 start\n",
      "^C\n",
      "Traceback (most recent call last):\n",
      "  File \"main.py\", line 344, in <module>\n",
      "    modelso.omr_rule_start, modelso.max_tax_free = modelno.northern_initialization_routine(startTime)\n",
      "  File \"calfews_src_cy/model_cy.pyx\", line 151, in calfews_src_cy.model_cy.Model.northern_initialization_routine\n",
      "    self.initialize_northern_res()\n",
      "  File \"calfews_src_cy/model_cy.pyx\", line 340, in calfews_src_cy.model_cy.Model.initialize_northern_res\n",
      "    x.find_release_func(self)\n",
      "  File \"calfews_src_cy/reservoir_cy.pyx\", line 1162, in calfews_src_cy.reservoir_cy.Reservoir.find_release_func\n",
      "    running_rain_fnf = np.sum(self.fnf[(t-dowy):(min(t, t-dowy+180))])\n",
      "  File \"<__array_function__ internals>\", line 2, in sum\n",
      "KeyboardInterrupt\n"
     ]
    }
   ],
   "source": [
    "! sed -i 's:\\\"validation\\\":\\\"simulation\\\":' runtime_params.ini\n",
    "! python3 -W ignore main.py"
   ]
  },
  {
   "cell_type": "markdown",
   "metadata": {},
   "source": [
    "## Analyze & visualize data. This may take a couple of hours."
   ]
  },
  {
   "cell_type": "code",
   "execution_count": 4,
   "metadata": {},
   "outputs": [],
   "source": [
    "import numpy as np\n",
    "import pandas as pd\n",
    "import h5py\n",
    "import json\n",
    "from datetime import datetime\n",
    "import matplotlib.pyplot as plt\n",
    "from itertools import compress\n",
    "import os\n",
    "from calfews_src import *\n",
    "from calfews_src.visualizer import Visualizer\n",
    "from datetime import datetime\n",
    "\n",
    "startTime = datetime.now()"
   ]
  },
  {
   "cell_type": "code",
   "execution_count": 5,
   "metadata": {},
   "outputs": [
    {
     "ename": "FileNotFoundError",
     "evalue": "[Errno 2] No such file or directory: 'results/baseline_wy2017/simulation/CDEC/modelno0.pkl'",
     "output_type": "error",
     "traceback": [
      "\u001b[0;31m---------------------------------------------------------------------------\u001b[0m",
      "\u001b[0;31mFileNotFoundError\u001b[0m                         Traceback (most recent call last)",
      "\u001b[0;32m<ipython-input-5-117d775c6450>\u001b[0m in \u001b[0;36m<module>\u001b[0;34m\u001b[0m\n\u001b[1;32m      9\u001b[0m \u001b[0;31m##get model variable names\u001b[0m\u001b[0;34m\u001b[0m\u001b[0;34m\u001b[0m\u001b[0;34m\u001b[0m\u001b[0m\n\u001b[1;32m     10\u001b[0m \u001b[0mmodelno_val\u001b[0m \u001b[0;34m=\u001b[0m \u001b[0mpd\u001b[0m\u001b[0;34m.\u001b[0m\u001b[0mread_pickle\u001b[0m\u001b[0;34m(\u001b[0m\u001b[0moutput_folder_val\u001b[0m \u001b[0;34m+\u001b[0m \u001b[0;34m'modelno0.pkl'\u001b[0m\u001b[0;34m)\u001b[0m\u001b[0;34m\u001b[0m\u001b[0;34m\u001b[0m\u001b[0m\n\u001b[0;32m---> 11\u001b[0;31m \u001b[0mmodelno_sim\u001b[0m \u001b[0;34m=\u001b[0m \u001b[0mpd\u001b[0m\u001b[0;34m.\u001b[0m\u001b[0mread_pickle\u001b[0m\u001b[0;34m(\u001b[0m\u001b[0moutput_folder_sim\u001b[0m \u001b[0;34m+\u001b[0m \u001b[0;34m'modelno0.pkl'\u001b[0m\u001b[0;34m)\u001b[0m\u001b[0;34m\u001b[0m\u001b[0;34m\u001b[0m\u001b[0m\n\u001b[0m\u001b[1;32m     12\u001b[0m \u001b[0mmodelso_val\u001b[0m \u001b[0;34m=\u001b[0m \u001b[0mpd\u001b[0m\u001b[0;34m.\u001b[0m\u001b[0mread_pickle\u001b[0m\u001b[0;34m(\u001b[0m\u001b[0moutput_folder_val\u001b[0m \u001b[0;34m+\u001b[0m \u001b[0;34m'modelso0.pkl'\u001b[0m\u001b[0;34m)\u001b[0m\u001b[0;34m\u001b[0m\u001b[0;34m\u001b[0m\u001b[0m\n\u001b[1;32m     13\u001b[0m \u001b[0mmodelso_sim\u001b[0m \u001b[0;34m=\u001b[0m \u001b[0mpd\u001b[0m\u001b[0;34m.\u001b[0m\u001b[0mread_pickle\u001b[0m\u001b[0;34m(\u001b[0m\u001b[0moutput_folder_sim\u001b[0m \u001b[0;34m+\u001b[0m \u001b[0;34m'modelso0.pkl'\u001b[0m\u001b[0;34m)\u001b[0m\u001b[0;34m\u001b[0m\u001b[0;34m\u001b[0m\u001b[0m\n",
      "\u001b[0;32m~/.local/lib/python3.6/site-packages/pandas/io/pickle.py\u001b[0m in \u001b[0;36mread_pickle\u001b[0;34m(filepath_or_buffer, compression)\u001b[0m\n\u001b[1;32m    168\u001b[0m     \u001b[0;32mif\u001b[0m \u001b[0;32mnot\u001b[0m \u001b[0misinstance\u001b[0m\u001b[0;34m(\u001b[0m\u001b[0mfp_or_buf\u001b[0m\u001b[0;34m,\u001b[0m \u001b[0mstr\u001b[0m\u001b[0;34m)\u001b[0m \u001b[0;32mand\u001b[0m \u001b[0mcompression\u001b[0m \u001b[0;34m==\u001b[0m \u001b[0;34m\"infer\"\u001b[0m\u001b[0;34m:\u001b[0m\u001b[0;34m\u001b[0m\u001b[0;34m\u001b[0m\u001b[0m\n\u001b[1;32m    169\u001b[0m         \u001b[0mcompression\u001b[0m \u001b[0;34m=\u001b[0m \u001b[0;32mNone\u001b[0m\u001b[0;34m\u001b[0m\u001b[0;34m\u001b[0m\u001b[0m\n\u001b[0;32m--> 170\u001b[0;31m     \u001b[0mf\u001b[0m\u001b[0;34m,\u001b[0m \u001b[0mfh\u001b[0m \u001b[0;34m=\u001b[0m \u001b[0mget_handle\u001b[0m\u001b[0;34m(\u001b[0m\u001b[0mfp_or_buf\u001b[0m\u001b[0;34m,\u001b[0m \u001b[0;34m\"rb\"\u001b[0m\u001b[0;34m,\u001b[0m \u001b[0mcompression\u001b[0m\u001b[0;34m=\u001b[0m\u001b[0mcompression\u001b[0m\u001b[0;34m,\u001b[0m \u001b[0mis_text\u001b[0m\u001b[0;34m=\u001b[0m\u001b[0;32mFalse\u001b[0m\u001b[0;34m)\u001b[0m\u001b[0;34m\u001b[0m\u001b[0;34m\u001b[0m\u001b[0m\n\u001b[0m\u001b[1;32m    171\u001b[0m \u001b[0;34m\u001b[0m\u001b[0m\n\u001b[1;32m    172\u001b[0m     \u001b[0;31m# 1) try standard library Pickle\u001b[0m\u001b[0;34m\u001b[0m\u001b[0;34m\u001b[0m\u001b[0;34m\u001b[0m\u001b[0m\n",
      "\u001b[0;32m~/.local/lib/python3.6/site-packages/pandas/io/common.py\u001b[0m in \u001b[0;36mget_handle\u001b[0;34m(path_or_buf, mode, encoding, compression, memory_map, is_text)\u001b[0m\n\u001b[1;32m    459\u001b[0m         \u001b[0;32melse\u001b[0m\u001b[0;34m:\u001b[0m\u001b[0;34m\u001b[0m\u001b[0;34m\u001b[0m\u001b[0m\n\u001b[1;32m    460\u001b[0m             \u001b[0;31m# Binary mode\u001b[0m\u001b[0;34m\u001b[0m\u001b[0;34m\u001b[0m\u001b[0;34m\u001b[0m\u001b[0m\n\u001b[0;32m--> 461\u001b[0;31m             \u001b[0mf\u001b[0m \u001b[0;34m=\u001b[0m \u001b[0mopen\u001b[0m\u001b[0;34m(\u001b[0m\u001b[0mpath_or_buf\u001b[0m\u001b[0;34m,\u001b[0m \u001b[0mmode\u001b[0m\u001b[0;34m)\u001b[0m\u001b[0;34m\u001b[0m\u001b[0;34m\u001b[0m\u001b[0m\n\u001b[0m\u001b[1;32m    462\u001b[0m         \u001b[0mhandles\u001b[0m\u001b[0;34m.\u001b[0m\u001b[0mappend\u001b[0m\u001b[0;34m(\u001b[0m\u001b[0mf\u001b[0m\u001b[0;34m)\u001b[0m\u001b[0;34m\u001b[0m\u001b[0;34m\u001b[0m\u001b[0m\n\u001b[1;32m    463\u001b[0m \u001b[0;34m\u001b[0m\u001b[0m\n",
      "\u001b[0;31mFileNotFoundError\u001b[0m: [Errno 2] No such file or directory: 'results/baseline_wy2017/simulation/CDEC/modelno0.pkl'"
     ]
    }
   ],
   "source": [
    "#results hdf5 file location from CALFEWS simulations\n",
    "flow_input_source = 'CDEC'\n",
    "show_plot = True\n",
    "\n",
    "output_folder_val = 'results/baseline_wy2017/validation/' + flow_input_source + '/'\n",
    "output_folder_sim = 'results/baseline_wy2017/simulation/' + flow_input_source + '/'\n",
    "output_file_val = output_folder_val + 'results_' + flow_input_source + '.hdf5'\n",
    "output_file_sim = output_folder_sim + 'results_' + flow_input_source + '.hdf5'\n",
    "##get model variable names\n",
    "modelno_val = pd.read_pickle(output_folder_val + 'modelno0.pkl')\n",
    "modelno_sim = pd.read_pickle(output_folder_sim + 'modelno0.pkl')\n",
    "modelso_val = pd.read_pickle(output_folder_val + 'modelso0.pkl')\n",
    "modelso_sim = pd.read_pickle(output_folder_sim + 'modelso0.pkl')\n",
    "\n",
    "##Folder to write visualization files\n",
    "fig_folder = 'results/baseline_wy2017/figures/'\n",
    "sankeys_folder = 'results/baseline_wy2017/sankeys/'\n",
    "os.makedirs(fig_folder, exist_ok=True)\n",
    "os.makedirs(sankeys_folder, exist_ok=True)\n",
    "\n",
    "##plot figures in python\n",
    "##Set up data for validation results\n",
    "validation = Visualizer(modelso_val.district_list, modelso_val.private_list, modelso_val.city_list, modelso_val.contract_list, modelso_val.waterbank_list, modelso_val.leiu_list)\n",
    "validation.get_results_sensitivity_number(output_file_val, flow_input_source, 10, 1996, 1)\n",
    "validation.set_figure_params()\n",
    "#Set up data for scenario results\n",
    "simulation = Visualizer(modelso_sim.district_list, modelso_sim.private_list, modelso_sim.city_list, modelso_sim.contract_list, modelso_sim.waterbank_list, modelso_sim.leiu_list)\n",
    "simulation.get_results_sensitivity_number(output_file_sim, flow_input_source, 10, 1905, 1)\n",
    "simulation.set_figure_params()\n"
   ]
  },
  {
   "cell_type": "code",
   "execution_count": null,
   "metadata": {},
   "outputs": [],
   "source": [
    "##Compare Delta pumping/outflow distributions between scenarios\n",
    "print('Scenario Comp')\n",
    "plot_type = 'delta_pumping'\n",
    "plot_name = 'extended_simulation'\n",
    "simulation.scenario_compare(fig_folder, plot_type, plot_name, validation.values, show_plot)\n",
    "\n",
    "print('Time elapsed: ', datetime.now() - startTime)"
   ]
  },
  {
   "cell_type": "code",
   "execution_count": null,
   "metadata": {},
   "outputs": [],
   "source": [
    "#Plot district deliveries - both the physical location (for links w/GW and PMP modelling) and the 'account' - for financial risk\n",
    "plot_type = 'district_water_use'\n",
    "water_use_plots = ['annual', 'monthly']\n",
    "for plot_name in water_use_plots:\n",
    "  print('Deliveries ' + plot_name)\n",
    "  ##Uses the 'scenario' files\n",
    "  #simulation.make_deliveries_by_district(fig_folder, plot_type, plot_name, show_plot)\n",
    "  validation.make_deliveries_by_district(fig_folder, plot_type, plot_name, flow_input_source, show_plot)\n",
    "  simulation.make_deliveries_by_district(fig_folder, plot_type, plot_name, flow_input_source, show_plot)\n",
    "\n",
    "print('Time elapsed: ', datetime.now() - startTime)"
   ]
  },
  {
   "cell_type": "code",
   "execution_count": null,
   "metadata": {},
   "outputs": [],
   "source": [
    "##Plot snowpack/flow relationships for different watersheds\n",
    "plot_type = 'state_estimation'\n",
    "forecast_plots = ['publication', 'sacramento', 'sanjoaquin', 'tulare']\n",
    "n_days_colorbar = 180\n",
    "scatter_plot_interval = 30\n",
    "range_sensitivity = 5.0 # higher number limits range of regression function plotting closer to the range of the data\n",
    "for plot_name in forecast_plots:\n",
    "  print('Forcasts ' + plot_name)\n",
    "  validation.plot_forecasts(fig_folder, plot_type, plot_name, n_days_colorbar, scatter_plot_interval, range_sensitivity, show_plot)\n",
    "    \n",
    "print('Time elapsed: ', datetime.now() - startTime)"
   ]
  },
  {
   "cell_type": "code",
   "execution_count": null,
   "metadata": {},
   "outputs": [],
   "source": [
    "#Plot 'states' for contracts, reservoirs, districts\n",
    "reservoir_name = 'sanluisstate'\n",
    "district_label = 'wheeler'\n",
    "district_key = 'WRM'\n",
    "plot_type = 'state_response'\n",
    "district_private_labels = []\n",
    "district_private_keys = []\n",
    "print('State Response, ' + district_key)\n",
    "##Uses the 'vaidation' files\n",
    "validation.show_state_response(fig_folder, plot_type, reservoir_name, district_label, district_key, district_private_labels, district_private_keys, show_plot)\n",
    "\n",
    "print('Time elapsed: ', datetime.now() - startTime)"
   ]
  },
  {
   "cell_type": "code",
   "execution_count": null,
   "metadata": {},
   "outputs": [],
   "source": [
    "##Plot validation between model & observations\n",
    "print('Model Validation')\n",
    "#delta pumping variables\n",
    "plot_type = 'model_validation'\n",
    "plot_name = 'delta'\n",
    "use_scatter = True\n",
    "validation.make_validation_timeseries(fig_folder, plot_type, plot_name, show_plot, use_scatter)\n",
    "\n",
    "print('Time elapsed: ', datetime.now() - startTime)"
   ]
  },
  {
   "cell_type": "code",
   "execution_count": null,
   "metadata": {},
   "outputs": [],
   "source": [
    "#sierra reservoirs\n",
    "plot_name = 'sierra'\n",
    "use_scatter = False\n",
    "num_cols = 3\n",
    "validation.make_validation_timeseries(fig_folder, plot_type, plot_name, show_plot, use_scatter, num_cols)\n",
    "\n",
    "print('Time elapsed: ', datetime.now() - startTime)"
   ]
  },
  {
   "cell_type": "code",
   "execution_count": null,
   "metadata": {},
   "outputs": [],
   "source": [
    "#san luis reservoirs\n",
    "plot_name = 'sanluis'\n",
    "use_scatter = True\n",
    "validation.make_validation_timeseries(fig_folder, plot_type, plot_name, show_plot, use_scatter)\n",
    "\n",
    "print('Time elapsed: ', datetime.now() - startTime)"
   ]
  },
  {
   "cell_type": "code",
   "execution_count": null,
   "metadata": {},
   "outputs": [],
   "source": [
    "#groundwater banks\n",
    "plot_name = 'bank'\n",
    "use_scatter = True\n",
    "validation.make_validation_timeseries(fig_folder, plot_type, plot_name, show_plot, use_scatter)\n",
    "\n",
    "print('Time elapsed: ', datetime.now() - startTime)"
   ]
  },
  {
   "cell_type": "code",
   "execution_count": null,
   "metadata": {},
   "outputs": [],
   "source": [
    "#sankey diagrams - write figures for water 'flows' in each day, then write to GIF\n",
    "plot_type = 'flow_diagram'\n",
    "plot_name = 'tulare'\n",
    "timesteps = 20000 #timesteps need to be greater than the snapshot range\n",
    "snapshot_range = (14600, 14975)\n",
    "simulation.plot_account_flows(sankeys_folder, plot_type, plot_name, timesteps, snapshot_range)"
   ]
  },
  {
   "cell_type": "markdown",
   "metadata": {},
   "source": [
    "**note: this^ did create figs, gif, but crashed kernel. I will look into it. Visualizing output below"
   ]
  },
  {
   "cell_type": "code",
   "execution_count": null,
   "metadata": {},
   "outputs": [],
   "source": [
    "simulation.make_gif(sankeys_folder + 'cali_sankey', '1946', 14601, 14975)\n",
    "print('Time elapsed: ', datetime.now() - startTime)"
   ]
  },
  {
   "cell_type": "code",
   "execution_count": null,
   "metadata": {},
   "outputs": [],
   "source": [
    "from IPython.display import HTML\n",
    "HTML('<img src=\"results/baseline_wy2017/sankeys/cali_sankey1946.gif\">')\n",
    "print('Time elapsed: ', datetime.now() - startTime)"
   ]
  }
 ],
 "metadata": {
  "kernelspec": {
   "display_name": ".venv_calfews",
   "language": "python",
   "name": ".venv_calfews"
  },
  "language_info": {
   "codemirror_mode": {
    "name": "ipython",
    "version": 3
   },
   "file_extension": ".py",
   "mimetype": "text/x-python",
   "name": "python",
   "nbconvert_exporter": "python",
   "pygments_lexer": "ipython3",
   "version": "3.6.9"
  }
 },
 "nbformat": 4,
 "nbformat_minor": 4
}
