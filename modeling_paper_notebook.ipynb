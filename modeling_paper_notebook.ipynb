{
 "cells": [
  {
   "cell_type": "markdown",
   "metadata": {},
   "source": [
    "# CALFEWS: California Food-Energy-Water System simulation model\n",
    "\n",
    "This notebook will rerun all simulations and recreate all figures from the following manuscript:\n",
    "\n",
    "Zeff, H.B., Hamilton, A.L., Malek, K., Herman, J.D., Cohen, J.S., Medellin-Azuara, J., Reed, P.M., and G.W. Characklis. (2020). \"California's Food-Energy-Water System: An Open Source Simulation Model of Adaptive Surface and Groundwater Management in the Central Valley.\" (In review, preprint available at https://engrxiv.org/sqr7e/).\n",
    "\n",
    "Prior to running this notebook, follow the instructions in \"README.md\" to download the model and data, and install all Python dependencies."
   ]
  },
  {
   "cell_type": "markdown",
   "metadata": {},
   "source": [
    "## Run validation \n",
    "\n",
    "First, make sure you do not already have output stored at ``results/Historical_validation_1997-2016`` or ``results/Historical_reconstruction_1906-2016``. If so, it needs to be moved or deleted, or it will cause an error.\n",
    "\n",
    "Override parameter file with version in \"runtime_params_validation.ini\""
   ]
  },
  {
   "cell_type": "code",
   "execution_count": 1,
   "metadata": {},
   "outputs": [],
   "source": [
    "! cp runtime_params_validation.ini runtime_params.ini"
   ]
  },
  {
   "cell_type": "markdown",
   "metadata": {},
   "source": [
    "Run validation mode (1997-2016). This will take ~7-10 minutes. Note: you may need to change ``python`` to ``python3`` depending on your system setup."
   ]
  },
  {
   "cell_type": "code",
   "execution_count": 2,
   "metadata": {},
   "outputs": [
    {
     "name": "stdout",
     "output_type": "stream",
     "text": [
      "#######################################################\n",
      "Begin initialization...\n",
      "Initialization complete,  0:00:22.598834\n",
      "Begin simulation,  0:00:22.598834\n",
      "results/Historical_validation_1997-2016\n",
      "Year  1.0 ,  0:00:46.108681\n",
      "Year  2.0 ,  0:01:10.661066\n",
      "Year  3.0 ,  0:01:32.151072\n",
      "Year  4.0 ,  0:01:53.868749\n",
      "Year  5.0 ,  0:02:15.115098\n",
      "Year  6.0 ,  0:02:34.137175\n",
      "Year  7.0 ,  0:02:52.687703\n",
      "Year  8.0 ,  0:03:10.650292\n",
      "Year  9.0 ,  0:03:31.159241\n",
      "Year  10.0 ,  0:03:54.050718\n",
      "Year  11.0 ,  0:04:12.205817\n",
      "Year  12.0 ,  0:04:29.397780\n",
      "Year  13.0 ,  0:04:46.375171\n",
      "Year  14.0 ,  0:05:04.668154\n",
      "Year  15.0 ,  0:05:27.369661\n",
      "Year  16.0 ,  0:05:46.593083\n",
      "Year  17.0 ,  0:06:04.518041\n",
      "Year  18.0 ,  0:06:20.759474\n",
      "Year  19.0 ,  0:06:35.704124\n",
      "Year  20.0 ,  0:06:52.808104\n",
      "Simulation complete, 0:07:03.915143\n"
     ]
    }
   ],
   "source": [
    "results_validation = \"results/Historical_validation_1997-2016\"\n",
    "! python -W ignore run_main_cy.py $results_validation"
   ]
  },
  {
   "cell_type": "markdown",
   "metadata": {},
   "source": [
    "## Run simulation \n",
    "Now change to simulation mode (1906-2016) and rerun. This will take ~35-50 minutes."
   ]
  },
  {
   "cell_type": "code",
   "execution_count": 3,
   "metadata": {
    "scrolled": false
   },
   "outputs": [
    {
     "name": "stdout",
     "output_type": "stream",
     "text": [
      "#######################################################\n",
      "Begin initialization...\n",
      "Initialization complete,  0:01:24.866315\n",
      "Begin simulation,  0:01:24.866315\n",
      "results/Historical_reconstruction_1906-2016\n",
      "Year  1.0 ,  0:01:51.978212\n",
      "Year  2.0 ,  0:02:14.948912\n",
      "Year  3.0 ,  0:02:35.572043\n",
      "Year  4.0 ,  0:02:57.608460\n",
      "Year  5.0 ,  0:03:18.695877\n",
      "Year  6.0 ,  0:03:37.710828\n",
      "Year  7.0 ,  0:03:54.001180\n",
      "Year  8.0 ,  0:04:09.644005\n",
      "Year  9.0 ,  0:04:27.211545\n",
      "Year  10.0 ,  0:04:43.867081\n",
      "Year  11.0 ,  0:05:02.884200\n",
      "Year  12.0 ,  0:05:20.825918\n",
      "Year  13.0 ,  0:05:37.099548\n",
      "Year  14.0 ,  0:05:52.991596\n",
      "Year  15.0 ,  0:06:08.628694\n",
      "Year  16.0 ,  0:06:24.806240\n",
      "Year  17.0 ,  0:06:41.623526\n",
      "Year  18.0 ,  0:06:58.678315\n",
      "Year  19.0 ,  0:07:13.881063\n",
      "Year  20.0 ,  0:07:29.971106\n",
      "Year  21.0 ,  0:07:45.893354\n",
      "Year  22.0 ,  0:08:02.761517\n",
      "Year  23.0 ,  0:08:18.794074\n",
      "Year  24.0 ,  0:08:34.113534\n",
      "Year  25.0 ,  0:08:49.404327\n",
      "Year  26.0 ,  0:09:04.400322\n",
      "Year  27.0 ,  0:09:20.382019\n",
      "Year  28.0 ,  0:09:35.940797\n",
      "Year  29.0 ,  0:09:51.318127\n",
      "Year  30.0 ,  0:10:07.092398\n",
      "Year  31.0 ,  0:10:23.538441\n",
      "Year  32.0 ,  0:10:41.926118\n",
      "Year  33.0 ,  0:11:01.930257\n",
      "Year  34.0 ,  0:11:18.781672\n",
      "Year  35.0 ,  0:11:35.550538\n",
      "Year  36.0 ,  0:11:53.682812\n",
      "Year  37.0 ,  0:12:10.888776\n",
      "Year  38.0 ,  0:12:29.884843\n",
      "Year  39.0 ,  0:12:46.040829\n",
      "Year  40.0 ,  0:13:02.735461\n",
      "Year  41.0 ,  0:13:20.022718\n",
      "Year  42.0 ,  0:13:36.374432\n",
      "Year  43.0 ,  0:13:52.189364\n",
      "Year  44.0 ,  0:14:07.841471\n",
      "Year  45.0 ,  0:14:23.381816\n",
      "Year  46.0 ,  0:14:40.765174\n",
      "Year  47.0 ,  0:14:59.213364\n",
      "Year  48.0 ,  0:15:15.875019\n",
      "Year  49.0 ,  0:15:31.907392\n",
      "Year  50.0 ,  0:15:47.799375\n",
      "Year  51.0 ,  0:16:05.363486\n",
      "Year  52.0 ,  0:16:21.597958\n",
      "Year  53.0 ,  0:16:39.050887\n",
      "Year  54.0 ,  0:16:55.582391\n",
      "Year  55.0 ,  0:17:11.027956\n",
      "Year  56.0 ,  0:17:26.156524\n",
      "Year  57.0 ,  0:17:41.953109\n",
      "Year  58.0 ,  0:17:58.801577\n",
      "Year  59.0 ,  0:18:15.333183\n",
      "Year  60.0 ,  0:18:31.518940\n",
      "Year  61.0 ,  0:18:48.744383\n",
      "Year  62.0 ,  0:19:07.568989\n",
      "Year  63.0 ,  0:19:24.578118\n",
      "Year  64.0 ,  0:19:45.303303\n",
      "Year  65.0 ,  0:20:02.383570\n",
      "Year  66.0 ,  0:20:18.826304\n",
      "Year  67.0 ,  0:20:34.482042\n",
      "Year  68.0 ,  0:20:51.564690\n",
      "Year  69.0 ,  0:21:09.085973\n",
      "Year  70.0 ,  0:21:25.307953\n",
      "Year  71.0 ,  0:21:41.143342\n",
      "Year  72.0 ,  0:21:55.684743\n",
      "Year  73.0 ,  0:22:13.835115\n",
      "Year  74.0 ,  0:22:31.748580\n",
      "Year  75.0 ,  0:22:51.315444\n",
      "Year  76.0 ,  0:23:08.066333\n",
      "Year  77.0 ,  0:23:27.239462\n",
      "Year  78.0 ,  0:23:51.610569\n",
      "Year  79.0 ,  0:24:10.190480\n",
      "Year  80.0 ,  0:24:26.924425\n",
      "Year  81.0 ,  0:24:45.645344\n",
      "Year  82.0 ,  0:25:01.912185\n",
      "Year  83.0 ,  0:25:16.845218\n",
      "Year  84.0 ,  0:25:32.264094\n",
      "Year  85.0 ,  0:25:47.020979\n",
      "Year  86.0 ,  0:26:01.665399\n",
      "Year  87.0 ,  0:26:16.566315\n",
      "Year  88.0 ,  0:26:33.409550\n",
      "Year  89.0 ,  0:26:48.752895\n",
      "Year  90.0 ,  0:27:07.173639\n",
      "Year  91.0 ,  0:27:26.084053\n",
      "Year  92.0 ,  0:27:45.184468\n",
      "Year  93.0 ,  0:28:04.568132\n",
      "Year  94.0 ,  0:28:22.670544\n",
      "Year  95.0 ,  0:28:39.204204\n",
      "Year  96.0 ,  0:28:54.878247\n",
      "Year  97.0 ,  0:29:10.700132\n",
      "Year  98.0 ,  0:29:26.721414\n",
      "Year  99.0 ,  0:29:42.439934\n",
      "Year  100.0 ,  0:29:59.919119\n",
      "Year  101.0 ,  0:30:19.399227\n",
      "Year  102.0 ,  0:30:35.589323\n",
      "Year  103.0 ,  0:30:51.401599\n",
      "Year  104.0 ,  0:31:06.805623\n",
      "Year  105.0 ,  0:31:22.544662\n",
      "Year  106.0 ,  0:31:42.311446\n",
      "Year  107.0 ,  0:31:58.904787\n",
      "Year  108.0 ,  0:32:14.144970\n",
      "Year  109.0 ,  0:32:28.689455\n",
      "Year  110.0 ,  0:32:43.206986\n",
      "Year  111.0 ,  0:32:58.309758\n",
      "Simulation complete, 0:33:46.864768\n"
     ]
    }
   ],
   "source": [
    "results_simulation = \"results/Historical_reconstruction_1906-2016\"\n",
    "! sed -i 's:\\\"validation\\\":\\\"simulation\\\":' runtime_params.ini\n",
    "! python -W ignore run_main_cy.py $results_simulation"
   ]
  },
  {
   "cell_type": "markdown",
   "metadata": {},
   "source": [
    "## Post-processing\n",
    "Run post-processing to analyze and visualize results. This will take a few hours."
   ]
  },
  {
   "cell_type": "code",
   "execution_count": 5,
   "metadata": {
    "scrolled": false
   },
   "outputs": [
    {
     "name": "stdout",
     "output_type": "stream",
     "text": [
      "Finish set up,  0:00:21.617461\n",
      "Finish Delta pumping/outflow figure,  0:02:50.287437\n",
      "Finish district deliveries figure,  0:26:28.575748\n",
      "Finish snowpack/flow relationship figure,  0:33:03.686595\n",
      "Finish state response figure,  0:33:07.263782\n",
      "Finish validation figures,  0:33:18.926046\n",
      "Starting Sankey diagrams (this will take a while)\n",
      "14600 September\n",
      "14601 September\n",
      "14602 September\n",
      "14603 September\n",
      "14604 September\n",
      "14605 September\n",
      "14606 September\n",
      "14607 September\n",
      "14608 September\n",
      "14609 September\n",
      "14610 October\n",
      "14611 October\n",
      "14612 October\n",
      "14613 October\n",
      "14614 October\n",
      "14615 October\n",
      "14616 October\n",
      "14617 October\n",
      "14618 October\n",
      "14619 October\n",
      "14620 October\n",
      "14621 October\n",
      "14622 October\n",
      "14623 October\n",
      "14624 October\n",
      "14625 October\n",
      "14626 October\n",
      "14627 October\n",
      "14628 October\n",
      "14629 October\n",
      "14630 October\n",
      "14631 October\n",
      "14632 October\n",
      "14633 October\n",
      "14634 October\n",
      "14635 October\n",
      "14636 October\n",
      "14637 October\n",
      "14638 October\n",
      "14639 October\n",
      "14640 October\n",
      "14641 November\n",
      "14642 November\n",
      "14643 November\n",
      "14644 November\n",
      "14645 November\n",
      "14646 November\n",
      "14647 November\n",
      "14648 November\n",
      "14649 November\n",
      "14650 November\n",
      "14651 November\n",
      "14652 November\n",
      "14653 November\n",
      "14654 November\n",
      "14655 November\n",
      "14656 November\n",
      "14657 November\n",
      "14658 November\n",
      "14659 November\n",
      "14660 November\n",
      "14661 November\n",
      "14662 November\n",
      "14663 November\n",
      "14664 November\n",
      "14665 November\n",
      "14666 November\n",
      "14667 November\n",
      "14668 November\n",
      "14669 November\n",
      "14670 November\n",
      "14671 December\n",
      "14672 December\n",
      "14673 December\n",
      "14674 December\n",
      "14675 December\n",
      "14676 December\n",
      "14677 December\n",
      "14678 December\n",
      "14679 December\n",
      "14680 December\n",
      "14681 December\n",
      "14682 December\n",
      "14683 December\n",
      "14684 December\n",
      "14685 December\n",
      "14686 December\n",
      "14687 December\n",
      "14688 December\n",
      "14689 December\n",
      "14690 December\n",
      "14691 December\n",
      "14692 December\n",
      "14693 December\n",
      "14694 December\n",
      "14695 December\n",
      "14696 December\n",
      "14697 December\n",
      "14698 December\n",
      "14699 December\n",
      "14700 December\n",
      "14701 December\n",
      "14702 January\n",
      "14703 January\n",
      "14704 January\n",
      "14705 January\n",
      "14706 January\n",
      "14707 January\n",
      "14708 January\n",
      "14709 January\n",
      "14710 January\n",
      "14711 January\n",
      "14712 January\n",
      "14713 January\n",
      "14714 January\n",
      "14715 January\n",
      "14716 January\n",
      "14717 January\n",
      "14718 January\n",
      "14719 January\n",
      "14720 January\n",
      "14721 January\n",
      "14722 January\n",
      "14723 January\n",
      "14724 January\n",
      "14725 January\n",
      "14726 January\n",
      "14727 January\n",
      "14728 January\n",
      "14729 January\n",
      "14730 January\n",
      "14731 January\n",
      "14732 January\n",
      "14733 February\n",
      "14734 February\n",
      "14735 February\n",
      "14736 February\n",
      "14737 February\n",
      "14738 February\n",
      "14739 February\n",
      "14740 February\n",
      "14741 February\n",
      "14742 February\n",
      "14743 February\n",
      "14744 February\n",
      "14745 February\n",
      "14746 February\n",
      "14747 February\n",
      "14748 February\n",
      "14749 February\n",
      "14750 February\n",
      "14751 February\n",
      "14752 February\n",
      "14753 February\n",
      "14754 February\n",
      "14755 February\n",
      "14756 February\n",
      "14757 February\n",
      "14758 February\n",
      "14759 February\n",
      "14760 February\n",
      "14761 March\n",
      "14762 March\n",
      "14763 March\n",
      "14764 March\n",
      "14765 March\n"
     ]
    }
   ],
   "source": [
    "results_figs = 'results/figs'\n",
    "results_sankeys = 'results/sankeys'\n",
    "! python -W ignore modeling_paper_postprocess.py $results_validation $results_simulation $results_figs $results_sankeys"
   ]
  },
  {
   "cell_type": "markdown",
   "metadata": {},
   "source": [
    "Show figures from postprocessing scripts. Note that if you rerun this, you may need to save your changes and then refresh the browser for the figures below to update to their newest versions."
   ]
  },
  {
   "cell_type": "code",
   "execution_count": 17,
   "metadata": {},
   "outputs": [
    {
     "data": {
      "text/html": [
       "<img src=\"results/figs/delta_pumping_extended_simulation.png\">"
      ],
      "text/plain": [
       "<IPython.core.display.HTML object>"
      ]
     },
     "execution_count": 17,
     "metadata": {},
     "output_type": "execute_result"
    }
   ],
   "source": [
    "from IPython.display import HTML\n",
    "HTML('<img src=\"' + results_figs + '/delta_pumping_extended_simulation.png\">')"
   ]
  },
  {
   "cell_type": "code",
   "execution_count": 18,
   "metadata": {},
   "outputs": [
    {
     "data": {
      "text/html": [
       "<img src=\"results/figs/district_water_use_annual_validation.png\">"
      ],
      "text/plain": [
       "<IPython.core.display.HTML object>"
      ]
     },
     "execution_count": 18,
     "metadata": {},
     "output_type": "execute_result"
    }
   ],
   "source": [
    "HTML('<img src=\"' + results_figs + '/district_water_use_annual_validation.png\">')"
   ]
  },
  {
   "cell_type": "code",
   "execution_count": 19,
   "metadata": {},
   "outputs": [
    {
     "data": {
      "text/html": [
       "<img src=\"results/figs/district_water_use_annual_simulation.png\">"
      ],
      "text/plain": [
       "<IPython.core.display.HTML object>"
      ]
     },
     "execution_count": 19,
     "metadata": {},
     "output_type": "execute_result"
    }
   ],
   "source": [
    "HTML('<img src=\"' + results_figs + '/district_water_use_annual_simulation.png\">')"
   ]
  },
  {
   "cell_type": "code",
   "execution_count": 20,
   "metadata": {},
   "outputs": [
    {
     "data": {
      "text/html": [
       "<img src=\"results/figs/state_estimation_publication.png\">"
      ],
      "text/plain": [
       "<IPython.core.display.HTML object>"
      ]
     },
     "execution_count": 20,
     "metadata": {},
     "output_type": "execute_result"
    }
   ],
   "source": [
    "HTML('<img src=\"' + results_figs + '/state_estimation_publication.png\">')"
   ]
  },
  {
   "cell_type": "code",
   "execution_count": 21,
   "metadata": {
    "scrolled": false
   },
   "outputs": [
    {
     "data": {
      "text/html": [
       "<img src=\"results/figs/state_response_sanluisstate_wheeler.png\">"
      ],
      "text/plain": [
       "<IPython.core.display.HTML object>"
      ]
     },
     "execution_count": 21,
     "metadata": {},
     "output_type": "execute_result"
    }
   ],
   "source": [
    "HTML('<img src=\"' + results_figs + '/state_response_sanluisstate_wheeler.png\">')"
   ]
  },
  {
   "cell_type": "code",
   "execution_count": 22,
   "metadata": {},
   "outputs": [
    {
     "data": {
      "text/html": [
       "<img src=\"results/figs/model_validation_sierra.png\">"
      ],
      "text/plain": [
       "<IPython.core.display.HTML object>"
      ]
     },
     "execution_count": 22,
     "metadata": {},
     "output_type": "execute_result"
    }
   ],
   "source": [
    "HTML('<img src=\"' + results_figs + '/model_validation_sierra.png\">')"
   ]
  },
  {
   "cell_type": "code",
   "execution_count": 23,
   "metadata": {},
   "outputs": [
    {
     "data": {
      "text/html": [
       "<img src=\"results/figs/model_validation_delta.png\">"
      ],
      "text/plain": [
       "<IPython.core.display.HTML object>"
      ]
     },
     "execution_count": 23,
     "metadata": {},
     "output_type": "execute_result"
    }
   ],
   "source": [
    "HTML('<img src=\"' + results_figs + '/model_validation_delta.png\">')"
   ]
  },
  {
   "cell_type": "code",
   "execution_count": 24,
   "metadata": {},
   "outputs": [
    {
     "data": {
      "text/html": [
       "<img src=\"results/figs/model_validation_sanluis.png\">"
      ],
      "text/plain": [
       "<IPython.core.display.HTML object>"
      ]
     },
     "execution_count": 24,
     "metadata": {},
     "output_type": "execute_result"
    }
   ],
   "source": [
    "HTML('<img src=\"' + results_figs + '/model_validation_sanluis.png\">')"
   ]
  },
  {
   "cell_type": "code",
   "execution_count": 25,
   "metadata": {},
   "outputs": [
    {
     "data": {
      "text/html": [
       "<img src=\"results/figs/model_validation_bank.png\">"
      ],
      "text/plain": [
       "<IPython.core.display.HTML object>"
      ]
     },
     "execution_count": 25,
     "metadata": {},
     "output_type": "execute_result"
    }
   ],
   "source": [
    "HTML('<img src=\"' + results_figs + '/model_validation_bank.png\">')"
   ]
  },
  {
   "cell_type": "code",
   "execution_count": 27,
   "metadata": {},
   "outputs": [
    {
     "data": {
      "text/html": [
       "<img src=\"results/sankeys/cali_sankey1946.gif\">"
      ],
      "text/plain": [
       "<IPython.core.display.HTML object>"
      ]
     },
     "execution_count": 27,
     "metadata": {},
     "output_type": "execute_result"
    }
   ],
   "source": [
    "HTML('<img src=\"' + results_sankeys + '/cali_sankey1946.gif\">')"
   ]
  }
 ],
 "metadata": {
  "kernelspec": {
   "display_name": ".venv_conda_calfews",
   "language": "python",
   "name": ".venv_conda_calfews"
  },
  "language_info": {
   "codemirror_mode": {
    "name": "ipython",
    "version": 3
   },
   "file_extension": ".py",
   "mimetype": "text/x-python",
   "name": "python",
   "nbconvert_exporter": "python",
   "pygments_lexer": "ipython3",
   "version": "3.7.9"
  }
 },
 "nbformat": 4,
 "nbformat_minor": 4
}
