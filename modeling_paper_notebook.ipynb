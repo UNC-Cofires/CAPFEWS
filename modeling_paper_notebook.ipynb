{
 "cells": [
  {
   "cell_type": "markdown",
   "metadata": {},
   "source": [
    "# CALFEWS: California Food-Energy-Water System simulation model\n",
    "\n",
    "This notebook will rerun all simulations and recreate all figures from the following manuscript:\n",
    "\n",
    "Zeff, H.B., Herman, J.D., Hamilton, A.L., Malek, K., Cohen, J.S., Medellin-Azuara, J., Reed, P.M., and G.W. Characklis. (2020). \"Paper title.\" *Journal Name*. (In preparation).\n",
    "\n",
    "Prior to running this notebook, follow the instructions in \"README.md\" to download the model and data, and install all Python dependencies."
   ]
  },
  {
   "cell_type": "markdown",
   "metadata": {},
   "source": [
    "## Run validation \n",
    "\n",
    "Make sure you do not already have a folder \"results/baseline_wy2017\" from a previous run. If so, you will get an error.\n",
    "\n",
    "#### Override parameter file with version in \"runtime_params_validation.ini\""
   ]
  },
  {
   "cell_type": "code",
   "execution_count": null,
   "metadata": {},
   "outputs": [],
   "source": [
    "! cp runtime_params_validation.ini runtime_params.ini"
   ]
  },
  {
   "cell_type": "markdown",
   "metadata": {},
   "source": [
    "#### Run model. This will take ~15 minutes."
   ]
  },
  {
   "cell_type": "code",
   "execution_count": null,
   "metadata": {},
   "outputs": [],
   "source": [
    "! python3 -W ignore run_main_cy.py"
   ]
  },
  {
   "cell_type": "markdown",
   "metadata": {},
   "source": [
    "## Run simulation \n",
    "#### Now change to simulation mode and rerun. This will take ~1.5 hours."
   ]
  },
  {
   "cell_type": "code",
   "execution_count": null,
   "metadata": {
    "scrolled": false
   },
   "outputs": [],
   "source": [
    "! sed -i 's:\\\"validation\\\":\\\"simulation\\\":' runtime_params.ini\n",
    "! python3 -W ignore run_main_cy.py"
   ]
  },
  {
   "cell_type": "markdown",
   "metadata": {},
   "source": [
    "## Analyze & visualize data. This may take a couple of hours."
   ]
  },
  {
   "cell_type": "code",
   "execution_count": null,
   "metadata": {},
   "outputs": [],
   "source": [
    "import numpy as np\n",
    "import pandas as pd\n",
    "import h5py\n",
    "import json\n",
    "from datetime import datetime\n",
    "import matplotlib.pyplot as plt\n",
    "from itertools import compress\n",
    "import os\n",
    "from calfews_src import *\n",
    "from calfews_src.visualizer import Visualizer\n",
    "from datetime import datetime\n",
    "\n",
    "startTime = datetime.now()"
   ]
  },
  {
   "cell_type": "code",
   "execution_count": null,
   "metadata": {},
   "outputs": [],
   "source": [
    "#results hdf5 file location from CALFEWS simulations\n",
    "flow_input_source = 'CDEC'\n",
    "show_plot = True\n",
    "\n",
    "output_folder_val = 'results/baseline_wy2017/validation/' + flow_input_source + '/'\n",
    "output_folder_sim = 'results/baseline_wy2017/simulation/' + flow_input_source + '/'\n",
    "output_file_val = output_folder_val + 'results_' + flow_input_source + '.hdf5'\n",
    "output_file_sim = output_folder_sim + 'results_' + flow_input_source + '.hdf5'\n",
    "##get model variable names\n",
    "modelno_val = pd.read_pickle(output_folder_val + 'modelno0.pkl')\n",
    "modelno_sim = pd.read_pickle(output_folder_sim + 'modelno0.pkl')\n",
    "modelso_val = pd.read_pickle(output_folder_val + 'modelso0.pkl')\n",
    "modelso_sim = pd.read_pickle(output_folder_sim + 'modelso0.pkl')\n",
    "\n",
    "##Folder to write visualization files\n",
    "fig_folder = 'results/baseline_wy2017/figures/'\n",
    "sankeys_folder = 'results/baseline_wy2017/sankeys/'\n",
    "os.makedirs(fig_folder, exist_ok=True)\n",
    "os.makedirs(sankeys_folder, exist_ok=True)\n",
    "\n",
    "##plot figures in python\n",
    "##Set up data for validation results\n",
    "validation = Visualizer(modelso_val.district_list, modelso_val.private_list, modelso_val.city_list, modelso_val.contract_list, modelso_val.waterbank_list, modelso_val.leiu_list)\n",
    "validation.get_results_sensitivity_number(output_file_val, flow_input_source, 10, 1996, 1)\n",
    "validation.set_figure_params()\n",
    "#Set up data for scenario results\n",
    "simulation = Visualizer(modelso_sim.district_list, modelso_sim.private_list, modelso_sim.city_list, modelso_sim.contract_list, modelso_sim.waterbank_list, modelso_sim.leiu_list)\n",
    "simulation.get_results_sensitivity_number(output_file_sim, flow_input_source, 10, 1905, 1)\n",
    "simulation.set_figure_params()\n"
   ]
  },
  {
   "cell_type": "code",
   "execution_count": null,
   "metadata": {},
   "outputs": [],
   "source": [
    "##Compare Delta pumping/outflow distributions between scenarios\n",
    "print('Scenario Comp')\n",
    "plot_type = 'delta_pumping'\n",
    "plot_name = 'extended_simulation'\n",
    "simulation.scenario_compare(fig_folder, plot_type, plot_name, validation.values, show_plot)\n",
    "\n",
    "print('Time elapsed: ', datetime.now() - startTime)"
   ]
  },
  {
   "cell_type": "code",
   "execution_count": null,
   "metadata": {},
   "outputs": [],
   "source": [
    "#Plot district deliveries - both the physical location (for links w/GW and PMP modelling) and the 'account' - for financial risk\n",
    "plot_type = 'district_water_use'\n",
    "water_use_plots = ['annual', 'monthly']\n",
    "for plot_name in water_use_plots:\n",
    "  print('Deliveries ' + plot_name)\n",
    "  ##Uses the 'scenario' files\n",
    "  #simulation.make_deliveries_by_district(fig_folder, plot_type, plot_name, show_plot)\n",
    "  validation.make_deliveries_by_district(fig_folder, plot_type, plot_name, flow_input_source, show_plot)\n",
    "  simulation.make_deliveries_by_district(fig_folder, plot_type, plot_name, flow_input_source, show_plot)\n",
    "\n",
    "print('Time elapsed: ', datetime.now() - startTime)"
   ]
  },
  {
   "cell_type": "code",
   "execution_count": null,
   "metadata": {},
   "outputs": [],
   "source": [
    "##Plot snowpack/flow relationships for different watersheds\n",
    "plot_type = 'state_estimation'\n",
    "forecast_plots = ['publication', 'sacramento', 'sanjoaquin', 'tulare']\n",
    "n_days_colorbar = 180\n",
    "scatter_plot_interval = 30\n",
    "range_sensitivity = 5.0 # higher number limits range of regression function plotting closer to the range of the data\n",
    "for plot_name in forecast_plots:\n",
    "  print('Forcasts ' + plot_name)\n",
    "  validation.plot_forecasts(fig_folder, plot_type, plot_name, n_days_colorbar, scatter_plot_interval, range_sensitivity, show_plot)\n",
    "    \n",
    "print('Time elapsed: ', datetime.now() - startTime)"
   ]
  },
  {
   "cell_type": "code",
   "execution_count": null,
   "metadata": {},
   "outputs": [],
   "source": [
    "#Plot 'states' for contracts, reservoirs, districts\n",
    "reservoir_name = 'sanluisstate'\n",
    "district_label = 'wheeler'\n",
    "district_key = 'WRM'\n",
    "plot_type = 'state_response'\n",
    "district_private_labels = []\n",
    "district_private_keys = []\n",
    "print('State Response, ' + district_key)\n",
    "##Uses the 'vaidation' files\n",
    "validation.show_state_response(fig_folder, plot_type, reservoir_name, district_label, district_key, district_private_labels, district_private_keys, show_plot)\n",
    "\n",
    "print('Time elapsed: ', datetime.now() - startTime)"
   ]
  },
  {
   "cell_type": "code",
   "execution_count": null,
   "metadata": {},
   "outputs": [],
   "source": [
    "##Plot validation between model & observations\n",
    "print('Model Validation')\n",
    "#delta pumping variables\n",
    "plot_type = 'model_validation'\n",
    "plot_name = 'delta'\n",
    "use_scatter = True\n",
    "validation.make_validation_timeseries(fig_folder, plot_type, plot_name, show_plot, use_scatter)\n",
    "\n",
    "print('Time elapsed: ', datetime.now() - startTime)"
   ]
  },
  {
   "cell_type": "code",
   "execution_count": null,
   "metadata": {},
   "outputs": [],
   "source": [
    "#sierra reservoirs\n",
    "plot_name = 'sierra'\n",
    "use_scatter = False\n",
    "num_cols = 3\n",
    "validation.make_validation_timeseries(fig_folder, plot_type, plot_name, show_plot, use_scatter, num_cols)\n",
    "\n",
    "print('Time elapsed: ', datetime.now() - startTime)"
   ]
  },
  {
   "cell_type": "code",
   "execution_count": null,
   "metadata": {},
   "outputs": [],
   "source": [
    "#san luis reservoirs\n",
    "plot_name = 'sanluis'\n",
    "use_scatter = True\n",
    "validation.make_validation_timeseries(fig_folder, plot_type, plot_name, show_plot, use_scatter)\n",
    "\n",
    "print('Time elapsed: ', datetime.now() - startTime)"
   ]
  },
  {
   "cell_type": "code",
   "execution_count": null,
   "metadata": {},
   "outputs": [],
   "source": [
    "#groundwater banks\n",
    "plot_name = 'bank'\n",
    "use_scatter = True\n",
    "validation.make_validation_timeseries(fig_folder, plot_type, plot_name, show_plot, use_scatter)\n",
    "\n",
    "print('Time elapsed: ', datetime.now() - startTime)"
   ]
  },
  {
   "cell_type": "code",
   "execution_count": null,
   "metadata": {},
   "outputs": [],
   "source": [
    "#sankey diagrams - write figures for water 'flows' in each day, then write to GIF\n",
    "plot_type = 'flow_diagram'\n",
    "plot_name = 'tulare'\n",
    "timesteps = 20000 #timesteps need to be greater than the snapshot range\n",
    "snapshot_range = (14600, 14975, 100)\n",
    "simulation.plot_account_flows(sankeys_folder, plot_type, plot_name, timesteps, snapshot_range)\n",
    "print('Time elapsed: ', datetime.now() - startTime)"
   ]
  },
  {
   "cell_type": "markdown",
   "metadata": {},
   "source": [
    "**note: this^ did create figs, gif, but crashed kernel. I will look into it. Visualizing output below"
   ]
  },
  {
   "cell_type": "code",
   "execution_count": null,
   "metadata": {},
   "outputs": [],
   "source": [
    "simulation.make_gif(sankeys_folder + 'cali_sankey', '1946', 14600, 14975, 100)\n",
    "print('Time elapsed: ', datetime.now() - startTime)"
   ]
  },
  {
   "cell_type": "code",
   "execution_count": null,
   "metadata": {},
   "outputs": [],
   "source": [
    "from IPython.display import HTML\n",
    "HTML('<img src=\"results/baseline_wy2017/sankeys/cali_sankey1946.gif\">')\n",
    "print('Time elapsed: ', datetime.now() - startTime)"
   ]
  }
 ],
 "metadata": {
  "kernelspec": {
   "display_name": ".venv_calfews",
   "language": "python",
   "name": ".venv_calfews"
  },
  "language_info": {
   "codemirror_mode": {
    "name": "ipython",
    "version": 3
   },
   "file_extension": ".py",
   "mimetype": "text/x-python",
   "name": "python",
   "nbconvert_exporter": "python",
   "pygments_lexer": "ipython3",
   "version": "3.6.9"
  }
 },
 "nbformat": 4,
 "nbformat_minor": 4
}
