{
 "cells": [
  {
   "cell_type": "markdown",
   "metadata": {},
   "source": [
    "# CALFEWS: California Food-Energy-Water System simulation model\n",
    "This notebook provides an introductory tutorial for how to run the California Food-Energy Water System (CALFEWS) simulation model. The major sections are as follows:\n",
    "1. Setting simulation parameters\n",
    "1. Using different hydrologic inputs\n",
    "1. Running the model\n",
    "1. Analyzing and visualizing model output"
   ]
  },
  {
   "cell_type": "markdown",
   "metadata": {},
   "source": [
    "## Setting simulation parameters\n",
    "The main parameters file for CALFEWS is ``runtime_params.ini``. This file allows the user to change the type of simulation, the input data, output data characteristics, etc. Be sure to follow the instructions at the top of the file regarding syntax - failing to do so may result in improper parameter parsing."
   ]
  },
  {
   "cell_type": "markdown",
   "metadata": {},
   "source": [
    "The most important parameters are:\n",
    "1. `model_mode`: This defines which type of simulation is run. There are four defined modes at present:\n",
    "    1. `validation`: Validation mode runs over the historical time period for which good data exists (water years 1997-2016) and incorporates major changes to environmental regulations and water supply infrastructure over that period. This is used to validate model outputs against historical reservoir storage, delta pumping, groundwater bank accounts, etc. \n",
    "    1. `simulation`: Simulation mode takes a particular \"scenario\" of environmental regulations and infrastructure, and holds them fixed over an entire simulation. The scenario will be discussed below under `scenario_name`. This can be carried out for any input time series, such as the longer 111-year reconstructed dataset used by Zeff et al. (2020). Simulation mode is useful for risk-based analyses under present or future conditions.\n",
    "    1. `sensitivity`: Sensitivity mode runs a sensitivity analysis over uncertain model variables such as irrigation demand or the stringency of environmental regulations. Sensitivity mode can dispatch many independent simulations in parallel on HPC resources. However, *sensitivity mode is not fully finished at present*.\n",
    "    1. `climate_ensemble`: Climate ensemble mode runs an ensemble of present and future climate model projections through CALFEWS. This mode can also take advantage of parallelized dispatch.\n",
    "1. `flow_input_type` and `flow_input_source`: These parameters dictate which input data is used for the model, for all modes except validation, which always uses the historical dataset. These parameters will be discussed in the \"Using different hydrologic inputs\" section below.\n",
    "1. `scenario_name`: The scenario name dictates the environmental and infrastructure scenario that is used for all modes other than Validation mode (which uses the historical regulations and infrastructure). The default (used by Zeff et al. (2020)) is conditions as of water year 2017. The only other scenario currently offered is ``FKC_capacity_rehab_full``, in which the Friant-Kern Canal, which has seen reduced conveyance capacity over time due to subsidence, is restored to its original capacity. Other scenarios will be available soon.\n",
    "1. `short_test`: To run a short test, this parameter can be set to the number of days that you would like to run (e.g., 365). If set to -1, the entire simulation will be run.\n",
    "1. `output_directory`: The directory where model output will be stored. Default is the \"results\" folder, but this can be changed. Note that the path should be relative to the repository base directory.\n",
    "1. `print_log`: If True, print statements, errors, etc., will be output to a text file. Else it defaults to the terminal.\n",
    "1. `clean_output`: If True, only non-zero time series will be included in the HDF5 model output. If False, all time series will be included, even if zero at all dates.\n",
    "1. `save_full`: Save Model objects from simulation as Pickle file, in addition to the HDF5 output? This should be turned off for sensitivity analyses due to their size. But at least one simulation's output is necessary for visualizing model output.\n",
    "1. `parallel_mode`: Run in parallel (True) or serial (False)?\n",
    "1. `cluster_mode`: Run on HPC cluster, or single machine? Only matters if running in parallel.\n",
    "1. `num_nodes`: Number of nodes to use (only matters if running on a cluster in parallel).\n",
    "1. `processors_per_node`: Number of processors per node (only matters if running on a cluster in parallel).\n",
    "1. `num_processors`: Number of processors to use on computer (only matters if running in parallel but NOT on a cluster).\n",
    "\n",
    "See `runtime_params_validation.ini` for an example of how to run the validation experiment from Zeff et al. (2020) on a laptop."
   ]
  },
  {
   "cell_type": "code",
   "execution_count": 1,
   "metadata": {
    "scrolled": true
   },
   "outputs": [],
   "source": [
    "### Uncomment the next line to print the file contents\n",
    "# ! cat runtime_params_validation.ini"
   ]
  },
  {
   "cell_type": "markdown",
   "metadata": {},
   "source": [
    "## Using different hydrologic inputs\n",
    "The CALFEWS model converts hydrologic inputs into output time series such as reservoir storage, pumping from the Sacramento-San Joaquin Delta, deliveries of state and federal project water to irrigation districts, and groundwater banking accounts. For validation mode, the inputs include historical snow, streamflow, precipitation, evaporation, and urban water demand observations over the 1997-2016 water years. This data can be found in ``calfews_src/data/input/calfews_src-data.csv``."
   ]
  },
  {
   "cell_type": "code",
   "execution_count": 2,
   "metadata": {},
   "outputs": [
    {
     "data": {
      "text/html": [
       "<div>\n",
       "<style scoped>\n",
       "    .dataframe tbody tr th:only-of-type {\n",
       "        vertical-align: middle;\n",
       "    }\n",
       "\n",
       "    .dataframe tbody tr th {\n",
       "        vertical-align: top;\n",
       "    }\n",
       "\n",
       "    .dataframe thead th {\n",
       "        text-align: right;\n",
       "    }\n",
       "</style>\n",
       "<table border=\"1\" class=\"dataframe\">\n",
       "  <thead>\n",
       "    <tr style=\"text-align: right;\">\n",
       "      <th></th>\n",
       "      <th>datetime</th>\n",
       "      <th>realization</th>\n",
       "      <th>ORO_snow</th>\n",
       "      <th>SHA_snow</th>\n",
       "      <th>FOL_snow</th>\n",
       "      <th>YRS_snow</th>\n",
       "      <th>MHB_snow</th>\n",
       "      <th>PAR_snow</th>\n",
       "      <th>NHG_snow</th>\n",
       "      <th>NML_snow</th>\n",
       "      <th>...</th>\n",
       "      <th>SLF_out</th>\n",
       "      <th>CCC_pump</th>\n",
       "      <th>BRK_pump</th>\n",
       "      <th>HRO_pump</th>\n",
       "      <th>TRP_pump</th>\n",
       "      <th>delta_inflow</th>\n",
       "      <th>vernalis_inflow</th>\n",
       "      <th>EDM_pump</th>\n",
       "      <th>LAP_pump</th>\n",
       "      <th>SOB_pump</th>\n",
       "    </tr>\n",
       "  </thead>\n",
       "  <tbody>\n",
       "    <tr>\n",
       "      <th>0</th>\n",
       "      <td>10/1/1996</td>\n",
       "      <td>1</td>\n",
       "      <td>0.0</td>\n",
       "      <td>0.0</td>\n",
       "      <td>0.0</td>\n",
       "      <td>0.0</td>\n",
       "      <td>0.00</td>\n",
       "      <td>0.00</td>\n",
       "      <td>0.00</td>\n",
       "      <td>0.00</td>\n",
       "      <td>...</td>\n",
       "      <td>605.24</td>\n",
       "      <td>204</td>\n",
       "      <td>44</td>\n",
       "      <td>6524</td>\n",
       "      <td>4122</td>\n",
       "      <td>17788.0</td>\n",
       "      <td>2110</td>\n",
       "      <td>3097</td>\n",
       "      <td>325</td>\n",
       "      <td>184</td>\n",
       "    </tr>\n",
       "    <tr>\n",
       "      <th>1</th>\n",
       "      <td>10/2/1996</td>\n",
       "      <td>1</td>\n",
       "      <td>0.0</td>\n",
       "      <td>0.0</td>\n",
       "      <td>0.0</td>\n",
       "      <td>0.0</td>\n",
       "      <td>0.12</td>\n",
       "      <td>0.12</td>\n",
       "      <td>0.12</td>\n",
       "      <td>0.36</td>\n",
       "      <td>...</td>\n",
       "      <td>605.24</td>\n",
       "      <td>213</td>\n",
       "      <td>43</td>\n",
       "      <td>6524</td>\n",
       "      <td>4374</td>\n",
       "      <td>17538.0</td>\n",
       "      <td>2120</td>\n",
       "      <td>2548</td>\n",
       "      <td>377</td>\n",
       "      <td>176</td>\n",
       "    </tr>\n",
       "    <tr>\n",
       "      <th>2</th>\n",
       "      <td>10/3/1996</td>\n",
       "      <td>1</td>\n",
       "      <td>0.0</td>\n",
       "      <td>0.0</td>\n",
       "      <td>0.0</td>\n",
       "      <td>0.0</td>\n",
       "      <td>0.24</td>\n",
       "      <td>0.24</td>\n",
       "      <td>0.24</td>\n",
       "      <td>0.36</td>\n",
       "      <td>...</td>\n",
       "      <td>605.24</td>\n",
       "      <td>206</td>\n",
       "      <td>46</td>\n",
       "      <td>6518</td>\n",
       "      <td>4374</td>\n",
       "      <td>17667.0</td>\n",
       "      <td>2160</td>\n",
       "      <td>2357</td>\n",
       "      <td>58</td>\n",
       "      <td>191</td>\n",
       "    </tr>\n",
       "    <tr>\n",
       "      <th>3</th>\n",
       "      <td>10/4/1996</td>\n",
       "      <td>1</td>\n",
       "      <td>0.0</td>\n",
       "      <td>0.0</td>\n",
       "      <td>0.0</td>\n",
       "      <td>0.0</td>\n",
       "      <td>0.24</td>\n",
       "      <td>0.24</td>\n",
       "      <td>0.24</td>\n",
       "      <td>0.75</td>\n",
       "      <td>...</td>\n",
       "      <td>605.24</td>\n",
       "      <td>191</td>\n",
       "      <td>57</td>\n",
       "      <td>5885</td>\n",
       "      <td>4259</td>\n",
       "      <td>17307.0</td>\n",
       "      <td>2140</td>\n",
       "      <td>2347</td>\n",
       "      <td>409</td>\n",
       "      <td>208</td>\n",
       "    </tr>\n",
       "    <tr>\n",
       "      <th>4</th>\n",
       "      <td>10/5/1996</td>\n",
       "      <td>1</td>\n",
       "      <td>0.0</td>\n",
       "      <td>0.0</td>\n",
       "      <td>0.0</td>\n",
       "      <td>0.0</td>\n",
       "      <td>0.44</td>\n",
       "      <td>0.44</td>\n",
       "      <td>0.44</td>\n",
       "      <td>1.42</td>\n",
       "      <td>...</td>\n",
       "      <td>605.24</td>\n",
       "      <td>184</td>\n",
       "      <td>43</td>\n",
       "      <td>6538</td>\n",
       "      <td>4252</td>\n",
       "      <td>17540.0</td>\n",
       "      <td>2140</td>\n",
       "      <td>2217</td>\n",
       "      <td>370</td>\n",
       "      <td>199</td>\n",
       "    </tr>\n",
       "  </tbody>\n",
       "</table>\n",
       "<p>5 rows × 156 columns</p>\n",
       "</div>"
      ],
      "text/plain": [
       "    datetime  realization  ORO_snow  SHA_snow  FOL_snow  YRS_snow  MHB_snow  \\\n",
       "0  10/1/1996            1       0.0       0.0       0.0       0.0      0.00   \n",
       "1  10/2/1996            1       0.0       0.0       0.0       0.0      0.12   \n",
       "2  10/3/1996            1       0.0       0.0       0.0       0.0      0.24   \n",
       "3  10/4/1996            1       0.0       0.0       0.0       0.0      0.24   \n",
       "4  10/5/1996            1       0.0       0.0       0.0       0.0      0.44   \n",
       "\n",
       "   PAR_snow  NHG_snow  NML_snow  ...  SLF_out  CCC_pump  BRK_pump  HRO_pump  \\\n",
       "0      0.00      0.00      0.00  ...   605.24       204        44      6524   \n",
       "1      0.12      0.12      0.36  ...   605.24       213        43      6524   \n",
       "2      0.24      0.24      0.36  ...   605.24       206        46      6518   \n",
       "3      0.24      0.24      0.75  ...   605.24       191        57      5885   \n",
       "4      0.44      0.44      1.42  ...   605.24       184        43      6538   \n",
       "\n",
       "   TRP_pump  delta_inflow  vernalis_inflow  EDM_pump  LAP_pump  SOB_pump  \n",
       "0      4122       17788.0             2110      3097       325       184  \n",
       "1      4374       17538.0             2120      2548       377       176  \n",
       "2      4374       17667.0             2160      2357        58       191  \n",
       "3      4259       17307.0             2140      2347       409       208  \n",
       "4      4252       17540.0             2140      2217       370       199  \n",
       "\n",
       "[5 rows x 156 columns]"
      ]
     },
     "execution_count": 2,
     "metadata": {},
     "output_type": "execute_result"
    }
   ],
   "source": [
    "import pandas as pd\n",
    "historical = pd.read_csv('calfews_src/data/input/calfews_src-data.csv')\n",
    "historical.head()"
   ]
  },
  {
   "cell_type": "markdown",
   "metadata": {},
   "source": [
    "For model modes other than validation, the user can specify which input time series they would like to use. As mentioned previously, this is done using the ``flow_input_type`` and ``flow_input_source`` parameters from ``runtime_params.ini``. The mapping between these two parameters and the input information is given in the json file ``calfews_src/data/input/base_inflows.json``. This file consists of a nested set of dictionaries. The outer set of keys (e.g., ``flow_input_file``, ``export_series``, etc.) contain the names of important variables that will be used within the model. The next layer's key corresponds to the ``flow_input_type``, and the third layer consists of the ``flow_input_source``. CALFEWS will choose the value corresponding to the two keys as listed in ``runtime_params.ini``. "
   ]
  },
  {
   "cell_type": "code",
   "execution_count": 3,
   "metadata": {},
   "outputs": [],
   "source": [
    "### Uncomment the next line to print the file contents\n",
    "# ! cat calfews_src/data/input/base_inflows.json"
   ]
  },
  {
   "cell_type": "markdown",
   "metadata": {},
   "source": [
    "As an example, the simulation mode run from Zeff et al. (2020) uses ``flow_input_type = \"observations\"`` and ``flow_input_source = \"CDEC\"``. With these keys, CALFEWS will choose ``calfews_src/data/input/calfews_src-data-sim.csv`` as the ``flow_input_file``. Other keys within the json file provide metadata such as the simulation start and end dates, whether the data contain leap days, and the flow units. Here are some of the main combinations, and the source each dataset:\n",
    "\n",
    "| flow_input_type | flow_input_source | model_mode | File (relative to calfews_src/data/) | Water Years | Source |\n",
    "| :--             | :--               | :--        | :--  | :--         | :--    |\n",
    "| observations    | CDEC              | validation | input/calfews_src-data-sim.csv | 1997-2016   | California Data Exchange Center (CDEC). See Zeff et al. (2020), In Prep, for details.|\n",
    "| observations    | CDEC              | simulation | input/calfews_src-data.csv | 1906-2016   | California Data Exchange Center (CDEC), plus statistical reanalysis. See Zeff et al. (2020), In Prep, for details.|\n",
    "| observations    | CDEC_wet_dry      | simulation | input/calfews_src-data-wet-dry.csv | 1997, 2014 | Same dataset as first row, but wet (1997) and dry (2014) water years manually spliced together. |\n",
    "| downscaled_20062016    | WRF               | simulation | CA_FNF_WRF/WRF_20062016.csv | 2007-2017 | Output from WRF, from Holtzman et al. (2020), JAMES,  https:// doi.org/10.1029/2019MS001832 |\n",
    "| downscaled_20062016    | WRF_GW_corr       | simulation | CA_FNF_WRF/WRF_GWCorrect_20062016.csv | 2007-2017 | Output from WRF with groundwater correction, from Holtzman et al. (2020), *JAMES*,  https:// doi.org/10.1029/2019MS001832 |\n",
    "| downscaled_19502100    | canesm2_rcp45       | climate_ensemble | CA_FNF_climate_change/CA_FNF_canesm2_rcp45_r1i1p1.csv | 1950-2100 | CanESM2 output from CMIP5, then downscaled and bias corrected. 21 other model/RCP combinations also available. For details see Cohen et al. (2020), *JWRPM* (101061), In Press. |"
   ]
  },
  {
   "cell_type": "markdown",
   "metadata": {},
   "source": [
    "## Running the model\n",
    "### Check that all Python dependencies are met\n",
    "If the Python imports below cause a problem, this means you do not have all of the requisite packages. Follow the instructions on the README to create a virtual environment and perform the installations. CALFWES requires Python 3. Also, be sure to check that the correct virtual environment is activated and being used for the Kernel in this notebook."
   ]
  },
  {
   "cell_type": "code",
   "execution_count": 4,
   "metadata": {},
   "outputs": [],
   "source": [
    "%load_ext cython"
   ]
  },
  {
   "cell_type": "code",
   "execution_count": 5,
   "metadata": {},
   "outputs": [
    {
     "ename": "ValueError",
     "evalue": "calfews_src.model_cy.Model size changed, may indicate binary incompatibility. Expected 4856 from C header, got 1456 from PyObject",
     "output_type": "error",
     "traceback": [
      "\u001b[0;31m---------------------------------------------------------------------------\u001b[0m",
      "\u001b[0;31mValueError\u001b[0m                                Traceback (most recent call last)",
      "\u001b[0;32m<ipython-input-5-d9a69c03a3e9>\u001b[0m in \u001b[0;36m<module>\u001b[0;34m\u001b[0m\n\u001b[0;32m----> 1\u001b[0;31m \u001b[0mget_ipython\u001b[0m\u001b[0;34m(\u001b[0m\u001b[0;34m)\u001b[0m\u001b[0;34m.\u001b[0m\u001b[0mrun_cell_magic\u001b[0m\u001b[0;34m(\u001b[0m\u001b[0;34m'cython'\u001b[0m\u001b[0;34m,\u001b[0m \u001b[0;34m''\u001b[0m\u001b[0;34m,\u001b[0m \u001b[0;34m'import numpy as np\\nimport pandas as pd\\nimport matplotlib.pyplot as plt\\nfrom datetime import datetime\\nimport os\\nimport shutil\\nimport sys\\nfrom configobj import ConfigObj\\nimport json\\nfrom distutils.util import strtobool\\nimport h5py\\nfrom calfews_src.model_cy cimport Model\\nfrom calfews_src.inputter_cy import Inputter\\nfrom calfews_src.scenario import Scenario\\nfrom calfews_src.util import *\\nfrom calfews_src.plotter import *\\nfrom calfews_src.visualizer import Visualizer\\n'\u001b[0m\u001b[0;34m)\u001b[0m\u001b[0;34m\u001b[0m\u001b[0;34m\u001b[0m\u001b[0m\n\u001b[0m",
      "\u001b[0;32m~/.local/lib/python3.6/site-packages/IPython/core/interactiveshell.py\u001b[0m in \u001b[0;36mrun_cell_magic\u001b[0;34m(self, magic_name, line, cell)\u001b[0m\n\u001b[1;32m   2369\u001b[0m             \u001b[0;32mwith\u001b[0m \u001b[0mself\u001b[0m\u001b[0;34m.\u001b[0m\u001b[0mbuiltin_trap\u001b[0m\u001b[0;34m:\u001b[0m\u001b[0;34m\u001b[0m\u001b[0;34m\u001b[0m\u001b[0m\n\u001b[1;32m   2370\u001b[0m                 \u001b[0margs\u001b[0m \u001b[0;34m=\u001b[0m \u001b[0;34m(\u001b[0m\u001b[0mmagic_arg_s\u001b[0m\u001b[0;34m,\u001b[0m \u001b[0mcell\u001b[0m\u001b[0;34m)\u001b[0m\u001b[0;34m\u001b[0m\u001b[0;34m\u001b[0m\u001b[0m\n\u001b[0;32m-> 2371\u001b[0;31m                 \u001b[0mresult\u001b[0m \u001b[0;34m=\u001b[0m \u001b[0mfn\u001b[0m\u001b[0;34m(\u001b[0m\u001b[0;34m*\u001b[0m\u001b[0margs\u001b[0m\u001b[0;34m,\u001b[0m \u001b[0;34m**\u001b[0m\u001b[0mkwargs\u001b[0m\u001b[0;34m)\u001b[0m\u001b[0;34m\u001b[0m\u001b[0;34m\u001b[0m\u001b[0m\n\u001b[0m\u001b[1;32m   2372\u001b[0m             \u001b[0;32mreturn\u001b[0m \u001b[0mresult\u001b[0m\u001b[0;34m\u001b[0m\u001b[0;34m\u001b[0m\u001b[0m\n\u001b[1;32m   2373\u001b[0m \u001b[0;34m\u001b[0m\u001b[0m\n",
      "\u001b[0;32m<decorator-gen-128>\u001b[0m in \u001b[0;36mcython\u001b[0;34m(self, line, cell)\u001b[0m\n",
      "\u001b[0;32m~/.local/lib/python3.6/site-packages/IPython/core/magic.py\u001b[0m in \u001b[0;36m<lambda>\u001b[0;34m(f, *a, **k)\u001b[0m\n\u001b[1;32m    185\u001b[0m     \u001b[0;31m# but it's overkill for just that one bit of state.\u001b[0m\u001b[0;34m\u001b[0m\u001b[0;34m\u001b[0m\u001b[0;34m\u001b[0m\u001b[0m\n\u001b[1;32m    186\u001b[0m     \u001b[0;32mdef\u001b[0m \u001b[0mmagic_deco\u001b[0m\u001b[0;34m(\u001b[0m\u001b[0marg\u001b[0m\u001b[0;34m)\u001b[0m\u001b[0;34m:\u001b[0m\u001b[0;34m\u001b[0m\u001b[0;34m\u001b[0m\u001b[0m\n\u001b[0;32m--> 187\u001b[0;31m         \u001b[0mcall\u001b[0m \u001b[0;34m=\u001b[0m \u001b[0;32mlambda\u001b[0m \u001b[0mf\u001b[0m\u001b[0;34m,\u001b[0m \u001b[0;34m*\u001b[0m\u001b[0ma\u001b[0m\u001b[0;34m,\u001b[0m \u001b[0;34m**\u001b[0m\u001b[0mk\u001b[0m\u001b[0;34m:\u001b[0m \u001b[0mf\u001b[0m\u001b[0;34m(\u001b[0m\u001b[0;34m*\u001b[0m\u001b[0ma\u001b[0m\u001b[0;34m,\u001b[0m \u001b[0;34m**\u001b[0m\u001b[0mk\u001b[0m\u001b[0;34m)\u001b[0m\u001b[0;34m\u001b[0m\u001b[0;34m\u001b[0m\u001b[0m\n\u001b[0m\u001b[1;32m    188\u001b[0m \u001b[0;34m\u001b[0m\u001b[0m\n\u001b[1;32m    189\u001b[0m         \u001b[0;32mif\u001b[0m \u001b[0mcallable\u001b[0m\u001b[0;34m(\u001b[0m\u001b[0marg\u001b[0m\u001b[0;34m)\u001b[0m\u001b[0;34m:\u001b[0m\u001b[0;34m\u001b[0m\u001b[0;34m\u001b[0m\u001b[0m\n",
      "\u001b[0;32m~/.local/lib/python3.6/site-packages/Cython/Build/IpythonMagic.py\u001b[0m in \u001b[0;36mcython\u001b[0;34m(self, line, cell)\u001b[0m\n\u001b[1;32m    349\u001b[0m             \u001b[0;32mreturn\u001b[0m \u001b[0;32mNone\u001b[0m\u001b[0;34m\u001b[0m\u001b[0;34m\u001b[0m\u001b[0m\n\u001b[1;32m    350\u001b[0m \u001b[0;34m\u001b[0m\u001b[0m\n\u001b[0;32m--> 351\u001b[0;31m         \u001b[0mmodule\u001b[0m \u001b[0;34m=\u001b[0m \u001b[0mimp\u001b[0m\u001b[0;34m.\u001b[0m\u001b[0mload_dynamic\u001b[0m\u001b[0;34m(\u001b[0m\u001b[0mmodule_name\u001b[0m\u001b[0;34m,\u001b[0m \u001b[0mmodule_path\u001b[0m\u001b[0;34m)\u001b[0m\u001b[0;34m\u001b[0m\u001b[0;34m\u001b[0m\u001b[0m\n\u001b[0m\u001b[1;32m    352\u001b[0m         \u001b[0mself\u001b[0m\u001b[0;34m.\u001b[0m\u001b[0m_import_all\u001b[0m\u001b[0;34m(\u001b[0m\u001b[0mmodule\u001b[0m\u001b[0;34m)\u001b[0m\u001b[0;34m\u001b[0m\u001b[0;34m\u001b[0m\u001b[0m\n\u001b[1;32m    353\u001b[0m \u001b[0;34m\u001b[0m\u001b[0m\n",
      "\u001b[0;32m/usr/lib/python3.6/imp.py\u001b[0m in \u001b[0;36mload_dynamic\u001b[0;34m(name, path, file)\u001b[0m\n\u001b[1;32m    341\u001b[0m         spec = importlib.machinery.ModuleSpec(\n\u001b[1;32m    342\u001b[0m             name=name, loader=loader, origin=path)\n\u001b[0;32m--> 343\u001b[0;31m         \u001b[0;32mreturn\u001b[0m \u001b[0m_load\u001b[0m\u001b[0;34m(\u001b[0m\u001b[0mspec\u001b[0m\u001b[0;34m)\u001b[0m\u001b[0;34m\u001b[0m\u001b[0;34m\u001b[0m\u001b[0m\n\u001b[0m\u001b[1;32m    344\u001b[0m \u001b[0;34m\u001b[0m\u001b[0m\n\u001b[1;32m    345\u001b[0m \u001b[0;32melse\u001b[0m\u001b[0;34m:\u001b[0m\u001b[0;34m\u001b[0m\u001b[0;34m\u001b[0m\u001b[0m\n",
      "\u001b[0;32m/usr/lib/python3.6/importlib/_bootstrap.py\u001b[0m in \u001b[0;36m_load\u001b[0;34m(spec)\u001b[0m\n",
      "\u001b[0;32m/usr/lib/python3.6/importlib/_bootstrap.py\u001b[0m in \u001b[0;36m_load_unlocked\u001b[0;34m(spec)\u001b[0m\n",
      "\u001b[0;32m/usr/lib/python3.6/importlib/_bootstrap_external.py\u001b[0m in \u001b[0;36mexec_module\u001b[0;34m(self, module)\u001b[0m\n",
      "\u001b[0;32m/usr/lib/python3.6/importlib/_bootstrap.py\u001b[0m in \u001b[0;36m_call_with_frames_removed\u001b[0;34m(f, *args, **kwds)\u001b[0m\n",
      "\u001b[0;32m_cython_magic_4c6adf31cacf50f4b4e04f5d19a5cc47.pyx\u001b[0m in \u001b[0;36minit _cython_magic_4c6adf31cacf50f4b4e04f5d19a5cc47\u001b[0;34m()\u001b[0m\n",
      "\u001b[0;31mValueError\u001b[0m: calfews_src.model_cy.Model size changed, may indicate binary incompatibility. Expected 4856 from C header, got 1456 from PyObject"
     ]
    }
   ],
   "source": [
    "%%cython\n",
    "import numpy as np\n",
    "import pandas as pd\n",
    "import matplotlib.pyplot as plt\n",
    "from datetime import datetime\n",
    "import os\n",
    "import shutil\n",
    "import sys\n",
    "from configobj import ConfigObj\n",
    "import json\n",
    "from distutils.util import strtobool\n",
    "import h5py\n",
    "from calfews_src.model_cy cimport Model\n",
    "from calfews_src.inputter_cy import Inputter\n",
    "from calfews_src.scenario import Scenario\n",
    "from calfews_src.util import *\n",
    "from calfews_src.plotter import *\n",
    "from calfews_src.visualizer import Visualizer"
   ]
  },
  {
   "cell_type": "markdown",
   "metadata": {},
   "source": [
    "### Set model parameters\n",
    "Before running the simulation, we need to be sure that the runtime parameters have been set appropriately. For this tutorial, we will run simulation mode with a short example time series that is two years long. This input has been created artificially by putting a very dry water year (2014) after a very wet water year (1997).\n",
    "\n",
    "We start with the example runtime file for validation mode, then change ``model_mode`` to simulation and change ``flow_input_source`` to ``CDEC_wet_dry``. You can do this manually in a text editor, or in a terminal with the following commands:"
   ]
  },
  {
   "cell_type": "code",
   "execution_count": null,
   "metadata": {},
   "outputs": [],
   "source": [
    "! cp runtime_params_validation.ini runtime_params.ini\n",
    "! sed -i 's:\\\"validation\\\":\\\"simulation\\\":' runtime_params.ini\n",
    "! sed -i 's:\\\"CDEC\\\":\\\"CDEC_wet_dry\\\":' runtime_params.ini"
   ]
  },
  {
   "cell_type": "markdown",
   "metadata": {},
   "source": [
    "### Run the model\n",
    "First, make sure you do not already have output stored at ``results/baseline_wy2017/simulation/CDEC_wet_dry/``. If so, it needs to be moved or deleted, or it will cause an error."
   ]
  },
  {
   "cell_type": "code",
   "execution_count": null,
   "metadata": {},
   "outputs": [],
   "source": [
    "### uncomment the next line to delete old results, or do it by hand in the File Explorer/Finder\n",
    "! rm -rf results/baseline_wy2017/simulation/CDEC_wet_dry/"
   ]
  },
  {
   "cell_type": "markdown",
   "metadata": {},
   "source": [
    "To run CALFEWS, simply run the script ``main.py`` from your favorite IDE. Alternatively, it can be run from the terminal using the command below. This should take about 2 minutes. "
   ]
  },
  {
   "cell_type": "code",
   "execution_count": null,
   "metadata": {},
   "outputs": [],
   "source": [
    "! python3 -W ignore run_main_cy.py"
   ]
  },
  {
   "cell_type": "markdown",
   "metadata": {},
   "source": [
    "## Analyzing and visualizing model outputs\n",
    "The output from the simulation we just ran can be found at ``results/baseline_wy2017/simulation/CDEC_wet_dry/results_CDEC_wet_dry.hdf5``. Results are stored in the HDF5 format, which is much more efficient for large files than using text files. The output can be viewed in a graphical interface using the [HDFView program](https://www.hdfgroup.org/downloads/hdfview/).\n",
    "\n",
    "We can also interface with the HDF5 file directly using Python. Advanced data analysis and visualization functions can be found in the ``calfews_src/visualizer.py`` and ``calfews_src/sanker.py`` files. All figures displayed in Zeff et al. (2020) can be recreated by running the ``modeling_paper_notebook.ipynb`` Jupyter notebook. \n",
    "\n",
    "### Retrieving data\n",
    "However, in this tutorial we will show you how to interface directly with the model output in order to explore the data and create plots of your own."
   ]
  },
  {
   "cell_type": "code",
   "execution_count": null,
   "metadata": {},
   "outputs": [],
   "source": [
    "# import libraries\n",
    "import numpy as np\n",
    "import pandas as pd\n",
    "import h5py\n",
    "import json\n",
    "from datetime import datetime\n",
    "import matplotlib.pyplot as plt\n",
    "from itertools import compress\n",
    "import os\n",
    "from datetime import datetime\n",
    "from calfews_src import *\n",
    "from calfews_src.visualizer import Visualizer\n",
    "\n",
    "# results hdf5 file location from CALFEWS simulations\n",
    "output_folder_sim = 'results/baseline_wy2017/simulation/CDEC_wet_dry/'\n",
    "output_file_sim = output_folder_sim + 'results.hdf5'\n",
    "\n",
    "# load Model objects from simulation for information about available time series\n",
    "modelno_sim = pd.read_pickle(output_folder_sim + 'modelno0.pkl')\n",
    "modelso_sim = pd.read_pickle(output_folder_sim + 'modelso0.pkl')\n",
    "\n",
    "\n",
    "fig_folder = 'results/baseline_wy2017/simulation/figures/'\n",
    "\n",
    "# now load simulation output\n",
    "simulation = Visualizer(modelso_sim.district_list, modelso_sim.private_list, modelso_sim.city_list, modelso_sim.contract_list, modelso_sim.waterbank_list, modelso_sim.leiu_list)\n",
    "simulation.get_results_sensitivity_number(output_file_sim, '', 10, 1995, 1)\n",
    "datDaily = simulation.values"
   ]
  },
  {
   "cell_type": "markdown",
   "metadata": {},
   "source": [
    "``datDaily`` is a dictionary with all of the results. Each element is a daily time series over the two year period. The data includes model input time series (e.g., inflow to Shasta Lake) as well as simulated model state variable outputs (e.g., releases from Shasta Lake, or pumping into the California Aqueduct, or State Water Project deliveries to Semitropic Water Storage District)."
   ]
  },
  {
   "cell_type": "code",
   "execution_count": null,
   "metadata": {},
   "outputs": [],
   "source": [
    "## Uncomment line below to see a List all time series names\n",
    "# print(list(datDaily.keys()))"
   ]
  },
  {
   "cell_type": "markdown",
   "metadata": {},
   "source": [
    "Each of these keys can be interpreted using the spreadsheet ``results_key.xlsx``. This contatins 6 tabs: reservoirs, delta, contracts, districts, private, and waterbank. Each contains a list called ``Object List`` and a list called ``Object Attributes``. It also includes units for each variable. The column names for ``datDaily`` can be constructed by splicing members of each list together using an underscore (``_``). For example, the time series of releases (``R``) from Shasta Lake (``shasta``) is called ``shasta_R``.\n",
    "\n",
    "To get water deliveries to each District or Private entity requires the additional step of specifying the contract name. So if we want the State Water Project (``swpdelta``) delivery (``*contract_delivery``) to Semitropic Water Storage District (``semitropic``), the time series will be called ``semitropic_swpdelta_delivery``.\n",
    "\n",
    "Lastly, to get a District or Private entity's balance in a Water Banks, we specify the bank member's ``Object Key`` as the attribute. For example, the balance in the Kern Water Bank (``kwb``) owned by Semitropic (whose key is ``SMI``) will be called ``kwb_SMI``. We can also get the sum of all bank accounts in a particular bank with the attribute ``total`` (e.g., ``kwb_total``)."
   ]
  },
  {
   "cell_type": "markdown",
   "metadata": {},
   "source": [
    "### Plotting data\n",
    "Any time series can now be accessed at ``datDaily[*time_series_name]``. This allows us to plot any results of interest from Python.\n",
    "\n",
    "The data includes important model inputs, such as snowpack (which tracks the annual maximum, and thus is non-decreasing over the water year) and reservoir inflows (note log scale):"
   ]
  },
  {
   "cell_type": "code",
   "execution_count": null,
   "metadata": {},
   "outputs": [],
   "source": [
    "fig = plt.figure(figsize=(15,6))\n",
    "ax = plt.subplot(121)\n",
    "ax.plot(datDaily['shasta_SNPK'], label='Shasta')\n",
    "ax.plot(datDaily['oroville_SNPK'], label='Oroville')\n",
    "ax.plot(datDaily['millerton_SNPK'], label='Millerton')\n",
    "ax.plot(datDaily['isabella_SNPK'], label='Isabella')\n",
    "ax.legend()\n",
    "ax.set_xlabel('Date')\n",
    "ax.set_ylabel('Snowpack (inch)')\n",
    "plt.xticks(rotation=315)\n",
    "\n",
    "ax = plt.subplot(122)\n",
    "ax.plot(datDaily['shasta_Q'], label='Shasta')\n",
    "ax.plot(datDaily['oroville_Q'], label='Oroville')\n",
    "ax.plot(datDaily['millerton_Q'], label='Millerton')\n",
    "ax.plot(datDaily['isabella_Q'], label='Isabella')\n",
    "ax.legend()\n",
    "ax.set_xlabel('Date')\n",
    "ax.set_ylabel('Inflow (taF/day)')\n",
    "ax.set_yscale('log')\n",
    "plt.xticks(rotation=315)"
   ]
  },
  {
   "cell_type": "markdown",
   "metadata": {},
   "source": [
    "Additionally, we can look at model outputs such as reservoir storage and pumping from the Delta:"
   ]
  },
  {
   "cell_type": "code",
   "execution_count": null,
   "metadata": {},
   "outputs": [],
   "source": [
    "fig = plt.figure(figsize=(15,6))\n",
    "ax = plt.subplot(121)\n",
    "ax.plot(datDaily['shasta_S'], label='Shasta')\n",
    "ax.plot(datDaily['oroville_S'], label='Oroville')\n",
    "ax.plot(datDaily['millerton_S'], label='Millerton')\n",
    "ax.plot(datDaily['isabella_S'], label='Isabella')\n",
    "ax.legend()\n",
    "ax.set_xlabel('Date')\n",
    "ax.set_ylabel('Storage (tAF)')\n",
    "plt.xticks(rotation=315)\n",
    "\n",
    "ax = plt.subplot(122)\n",
    "ax.plot(datDaily['delta_HRO_pump'], label='Banks')\n",
    "ax.plot(datDaily['delta_TRP_pump'], label='Tracy')\n",
    "ax.legend()\n",
    "ax.set_xlabel('Date')\n",
    "ax.set_ylabel('Pumping (taF/day)')\n",
    "# ax.set_yscale('log')\n",
    "plt.xticks(rotation=315)"
   ]
  },
  {
   "cell_type": "markdown",
   "metadata": {},
   "source": [
    "Here is cumulative water deliveries from various sources (left) and State Water Project deliveries to various districts:"
   ]
  },
  {
   "cell_type": "code",
   "execution_count": null,
   "metadata": {},
   "outputs": [],
   "source": [
    "fig = plt.figure(figsize=(15,6))\n",
    "ax = plt.subplot(121)\n",
    "ax.plot(datDaily['swpdelta_contract'], label='SWP Table A')\n",
    "ax.plot(datDaily['friant1_contract'], label='CVP Friant')\n",
    "ax.plot(datDaily['cvpexchange_contract'], label='CVP Exchange')\n",
    "ax.plot(datDaily['kingsriver_contract'], label='Kings')\n",
    "ax.plot(datDaily['kernriver_contract'], label='Kern')\n",
    "ax.legend()\n",
    "ax.set_xlabel('Date')\n",
    "ax.set_ylabel('Contract Deliveries (tAF)')\n",
    "plt.xticks(rotation=315)\n",
    "\n",
    "ax = plt.subplot(122)\n",
    "ax.plot(datDaily['centralcoast_tableA_delivery'], label='Central Coast')\n",
    "ax.plot(datDaily['losthills_tableA_delivery'], label='Lost Hills')\n",
    "ax.plot(datDaily['semitropic_tableA_delivery'], label='Semitropic')\n",
    "ax.plot(datDaily['wheeler_tableA_delivery'], label='Wheeler Ridge-Maricopa')\n",
    "ax.plot(datDaily['socal_tableA_delivery'], label='SoCal')\n",
    "ax.legend()\n",
    "ax.set_xlabel('Date')\n",
    "ax.set_ylabel('Contract Deliveries (tAF)')\n",
    "plt.xticks(rotation=315)"
   ]
  },
  {
   "cell_type": "markdown",
   "metadata": {},
   "source": [
    "Lastly, we can look at recharge and recovery from the Kern Water Bank"
   ]
  },
  {
   "cell_type": "code",
   "execution_count": null,
   "metadata": {},
   "outputs": [],
   "source": [
    "fig = plt.figure(figsize=(15,6))\n",
    "ax = plt.subplot(121)\n",
    "ax.plot(datDaily['kwb_DLR'], label='Dudley Ridge')\n",
    "# ax.plot(datDaily['kwb_KCWA'], label='KCWA')\n",
    "ax.plot(datDaily['kwb_ID4'], label='KCWA ID4')\n",
    "ax.plot(datDaily['kwb_SMI'], label='Semitropic')\n",
    "ax.plot(datDaily['kwb_TJC'], label='Tejon-Castac')\n",
    "ax.plot(datDaily['kwb_WRM'], label='Wheeler Ridge-Maricopa')\n",
    "ax.plot(datDaily['kwb_WON'], label='Wonderful Company')\n",
    "ax.legend()\n",
    "ax.set_xlabel('Date')\n",
    "ax.set_ylabel('Kern Water Bank balance (tAF)')\n",
    "plt.xticks(rotation=315)"
   ]
  }
 ],
 "metadata": {
  "kernelspec": {
   "display_name": ".venv_calfews",
   "language": "python",
   "name": ".venv_calfews"
  },
  "language_info": {
   "codemirror_mode": {
    "name": "ipython",
    "version": 3
   },
   "file_extension": ".py",
   "mimetype": "text/x-python",
   "name": "python",
   "nbconvert_exporter": "python",
   "pygments_lexer": "ipython3",
   "version": "3.6.9"
  }
 },
 "nbformat": 4,
 "nbformat_minor": 4
}
